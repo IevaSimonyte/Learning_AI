{
 "cells": [
  {
   "cell_type": "code",
   "execution_count": 1,
   "metadata": {
    "id": "WskjalEWPh0C"
   },
   "outputs": [
    {
     "name": "stderr",
     "output_type": "stream",
     "text": [
      "C:\\Users\\ievas.BSENSOR\\Anaconda3\\lib\\site-packages\\fastbook\\__init__.py:22: UserWarning: Missing `graphviz` - please run `conda install fastbook`\n",
      "  except ModuleNotFoundError: warn(\"Missing `graphviz` - please run `conda install fastbook`\")\n"
     ]
    }
   ],
   "source": [
    "from fastbook import *\n",
    "from fastai.vision.widgets import *"
   ]
  },
  {
   "cell_type": "code",
   "execution_count": 3,
   "metadata": {
    "colab": {
     "base_uri": "https://localhost:8080/"
    },
    "id": "Tn9L3WWNy0Vj",
    "outputId": "47bd278b-2954-4f10-ef3f-350d5e5d4af5"
   },
   "outputs": [
    {
     "ename": "NotImplementedError",
     "evalue": "cannot instantiate 'PosixPath' on your system",
     "output_type": "error",
     "traceback": [
      "\u001b[1;31m---------------------------------------------------------------------------\u001b[0m",
      "\u001b[1;31mNotImplementedError\u001b[0m                       Traceback (most recent call last)",
      "\u001b[1;32m<ipython-input-3-e29d9f0505e8>\u001b[0m in \u001b[0;36m<module>\u001b[1;34m\u001b[0m\n\u001b[0;32m      4\u001b[0m \u001b[0murllib\u001b[0m\u001b[1;33m.\u001b[0m\u001b[0mrequest\u001b[0m\u001b[1;33m.\u001b[0m\u001b[0murlretrieve\u001b[0m\u001b[1;33m(\u001b[0m\u001b[0murl\u001b[0m\u001b[1;33m,\u001b[0m \u001b[1;34m\"export.pkl\"\u001b[0m\u001b[1;33m)\u001b[0m\u001b[1;33m\u001b[0m\u001b[1;33m\u001b[0m\u001b[0m\n\u001b[0;32m      5\u001b[0m \u001b[1;33m\u001b[0m\u001b[0m\n\u001b[1;32m----> 6\u001b[1;33m \u001b[0mlearn_inf\u001b[0m \u001b[1;33m=\u001b[0m \u001b[0mload_learner\u001b[0m\u001b[1;33m(\u001b[0m\u001b[1;34m'./export.pkl'\u001b[0m\u001b[1;33m)\u001b[0m\u001b[1;33m\u001b[0m\u001b[1;33m\u001b[0m\u001b[0m\n\u001b[0m",
      "\u001b[1;32m~\\Anaconda3\\lib\\site-packages\\fastai\\learner.py\u001b[0m in \u001b[0;36mload_learner\u001b[1;34m(fname, cpu, pickle_module)\u001b[0m\n\u001b[0;32m    372\u001b[0m     \u001b[1;34m\"Load a `Learner` object in `fname`, optionally putting it on the `cpu`\"\u001b[0m\u001b[1;33m\u001b[0m\u001b[1;33m\u001b[0m\u001b[0m\n\u001b[0;32m    373\u001b[0m     \u001b[0mdistrib_barrier\u001b[0m\u001b[1;33m(\u001b[0m\u001b[1;33m)\u001b[0m\u001b[1;33m\u001b[0m\u001b[1;33m\u001b[0m\u001b[0m\n\u001b[1;32m--> 374\u001b[1;33m     \u001b[0mres\u001b[0m \u001b[1;33m=\u001b[0m \u001b[0mtorch\u001b[0m\u001b[1;33m.\u001b[0m\u001b[0mload\u001b[0m\u001b[1;33m(\u001b[0m\u001b[0mfname\u001b[0m\u001b[1;33m,\u001b[0m \u001b[0mmap_location\u001b[0m\u001b[1;33m=\u001b[0m\u001b[1;34m'cpu'\u001b[0m \u001b[1;32mif\u001b[0m \u001b[0mcpu\u001b[0m \u001b[1;32melse\u001b[0m \u001b[1;32mNone\u001b[0m\u001b[1;33m,\u001b[0m \u001b[0mpickle_module\u001b[0m\u001b[1;33m=\u001b[0m\u001b[0mpickle_module\u001b[0m\u001b[1;33m)\u001b[0m\u001b[1;33m\u001b[0m\u001b[1;33m\u001b[0m\u001b[0m\n\u001b[0m\u001b[0;32m    375\u001b[0m     \u001b[1;32mif\u001b[0m \u001b[0mhasattr\u001b[0m\u001b[1;33m(\u001b[0m\u001b[0mres\u001b[0m\u001b[1;33m,\u001b[0m \u001b[1;34m'to_fp32'\u001b[0m\u001b[1;33m)\u001b[0m\u001b[1;33m:\u001b[0m \u001b[0mres\u001b[0m \u001b[1;33m=\u001b[0m \u001b[0mres\u001b[0m\u001b[1;33m.\u001b[0m\u001b[0mto_fp32\u001b[0m\u001b[1;33m(\u001b[0m\u001b[1;33m)\u001b[0m\u001b[1;33m\u001b[0m\u001b[1;33m\u001b[0m\u001b[0m\n\u001b[0;32m    376\u001b[0m     \u001b[1;32mif\u001b[0m \u001b[0mcpu\u001b[0m\u001b[1;33m:\u001b[0m \u001b[0mres\u001b[0m\u001b[1;33m.\u001b[0m\u001b[0mdls\u001b[0m\u001b[1;33m.\u001b[0m\u001b[0mcpu\u001b[0m\u001b[1;33m(\u001b[0m\u001b[1;33m)\u001b[0m\u001b[1;33m\u001b[0m\u001b[1;33m\u001b[0m\u001b[0m\n",
      "\u001b[1;32m~\\Anaconda3\\lib\\site-packages\\torch\\serialization.py\u001b[0m in \u001b[0;36mload\u001b[1;34m(f, map_location, pickle_module, **pickle_load_args)\u001b[0m\n\u001b[0;32m    592\u001b[0m                     \u001b[0mopened_file\u001b[0m\u001b[1;33m.\u001b[0m\u001b[0mseek\u001b[0m\u001b[1;33m(\u001b[0m\u001b[0morig_position\u001b[0m\u001b[1;33m)\u001b[0m\u001b[1;33m\u001b[0m\u001b[1;33m\u001b[0m\u001b[0m\n\u001b[0;32m    593\u001b[0m                     \u001b[1;32mreturn\u001b[0m \u001b[0mtorch\u001b[0m\u001b[1;33m.\u001b[0m\u001b[0mjit\u001b[0m\u001b[1;33m.\u001b[0m\u001b[0mload\u001b[0m\u001b[1;33m(\u001b[0m\u001b[0mopened_file\u001b[0m\u001b[1;33m)\u001b[0m\u001b[1;33m\u001b[0m\u001b[1;33m\u001b[0m\u001b[0m\n\u001b[1;32m--> 594\u001b[1;33m                 \u001b[1;32mreturn\u001b[0m \u001b[0m_load\u001b[0m\u001b[1;33m(\u001b[0m\u001b[0mopened_zipfile\u001b[0m\u001b[1;33m,\u001b[0m \u001b[0mmap_location\u001b[0m\u001b[1;33m,\u001b[0m \u001b[0mpickle_module\u001b[0m\u001b[1;33m,\u001b[0m \u001b[1;33m**\u001b[0m\u001b[0mpickle_load_args\u001b[0m\u001b[1;33m)\u001b[0m\u001b[1;33m\u001b[0m\u001b[1;33m\u001b[0m\u001b[0m\n\u001b[0m\u001b[0;32m    595\u001b[0m         \u001b[1;32mreturn\u001b[0m \u001b[0m_legacy_load\u001b[0m\u001b[1;33m(\u001b[0m\u001b[0mopened_file\u001b[0m\u001b[1;33m,\u001b[0m \u001b[0mmap_location\u001b[0m\u001b[1;33m,\u001b[0m \u001b[0mpickle_module\u001b[0m\u001b[1;33m,\u001b[0m \u001b[1;33m**\u001b[0m\u001b[0mpickle_load_args\u001b[0m\u001b[1;33m)\u001b[0m\u001b[1;33m\u001b[0m\u001b[1;33m\u001b[0m\u001b[0m\n\u001b[0;32m    596\u001b[0m \u001b[1;33m\u001b[0m\u001b[0m\n",
      "\u001b[1;32m~\\Anaconda3\\lib\\site-packages\\torch\\serialization.py\u001b[0m in \u001b[0;36m_load\u001b[1;34m(zip_file, map_location, pickle_module, pickle_file, **pickle_load_args)\u001b[0m\n\u001b[0;32m    851\u001b[0m     \u001b[0munpickler\u001b[0m \u001b[1;33m=\u001b[0m \u001b[0mpickle_module\u001b[0m\u001b[1;33m.\u001b[0m\u001b[0mUnpickler\u001b[0m\u001b[1;33m(\u001b[0m\u001b[0mdata_file\u001b[0m\u001b[1;33m,\u001b[0m \u001b[1;33m**\u001b[0m\u001b[0mpickle_load_args\u001b[0m\u001b[1;33m)\u001b[0m\u001b[1;33m\u001b[0m\u001b[1;33m\u001b[0m\u001b[0m\n\u001b[0;32m    852\u001b[0m     \u001b[0munpickler\u001b[0m\u001b[1;33m.\u001b[0m\u001b[0mpersistent_load\u001b[0m \u001b[1;33m=\u001b[0m \u001b[0mpersistent_load\u001b[0m\u001b[1;33m\u001b[0m\u001b[1;33m\u001b[0m\u001b[0m\n\u001b[1;32m--> 853\u001b[1;33m     \u001b[0mresult\u001b[0m \u001b[1;33m=\u001b[0m \u001b[0munpickler\u001b[0m\u001b[1;33m.\u001b[0m\u001b[0mload\u001b[0m\u001b[1;33m(\u001b[0m\u001b[1;33m)\u001b[0m\u001b[1;33m\u001b[0m\u001b[1;33m\u001b[0m\u001b[0m\n\u001b[0m\u001b[0;32m    854\u001b[0m \u001b[1;33m\u001b[0m\u001b[0m\n\u001b[0;32m    855\u001b[0m     \u001b[0mtorch\u001b[0m\u001b[1;33m.\u001b[0m\u001b[0m_utils\u001b[0m\u001b[1;33m.\u001b[0m\u001b[0m_validate_loaded_sparse_tensors\u001b[0m\u001b[1;33m(\u001b[0m\u001b[1;33m)\u001b[0m\u001b[1;33m\u001b[0m\u001b[1;33m\u001b[0m\u001b[0m\n",
      "\u001b[1;32m~\\Anaconda3\\lib\\pathlib.py\u001b[0m in \u001b[0;36m__new__\u001b[1;34m(cls, *args, **kwargs)\u001b[0m\n\u001b[0;32m   1038\u001b[0m         \u001b[0mself\u001b[0m \u001b[1;33m=\u001b[0m \u001b[0mcls\u001b[0m\u001b[1;33m.\u001b[0m\u001b[0m_from_parts\u001b[0m\u001b[1;33m(\u001b[0m\u001b[0margs\u001b[0m\u001b[1;33m,\u001b[0m \u001b[0minit\u001b[0m\u001b[1;33m=\u001b[0m\u001b[1;32mFalse\u001b[0m\u001b[1;33m)\u001b[0m\u001b[1;33m\u001b[0m\u001b[1;33m\u001b[0m\u001b[0m\n\u001b[0;32m   1039\u001b[0m         \u001b[1;32mif\u001b[0m \u001b[1;32mnot\u001b[0m \u001b[0mself\u001b[0m\u001b[1;33m.\u001b[0m\u001b[0m_flavour\u001b[0m\u001b[1;33m.\u001b[0m\u001b[0mis_supported\u001b[0m\u001b[1;33m:\u001b[0m\u001b[1;33m\u001b[0m\u001b[1;33m\u001b[0m\u001b[0m\n\u001b[1;32m-> 1040\u001b[1;33m             raise NotImplementedError(\"cannot instantiate %r on your system\"\n\u001b[0m\u001b[0;32m   1041\u001b[0m                                       % (cls.__name__,))\n\u001b[0;32m   1042\u001b[0m         \u001b[0mself\u001b[0m\u001b[1;33m.\u001b[0m\u001b[0m_init\u001b[0m\u001b[1;33m(\u001b[0m\u001b[1;33m)\u001b[0m\u001b[1;33m\u001b[0m\u001b[1;33m\u001b[0m\u001b[0m\n",
      "\u001b[1;31mNotImplementedError\u001b[0m: cannot instantiate 'PosixPath' on your system"
     ]
    }
   ],
   "source": [
    "import urllib.request\n",
    "\n",
    "url = \"https://www.dropbox.com/s/1xgb7fs1xqrvsvo/export.pkl?dl=1\"\n",
    "urllib.request.urlretrieve(url, \"export.pkl\")\n",
    "    \n",
    "learn_inf = load_learner('./export.pkl')"
   ]
  },
  {
   "cell_type": "code",
   "execution_count": 13,
   "metadata": {
    "id": "llms6LvsWfLM"
   },
   "outputs": [],
   "source": [
    "btn_run = widgets.Button(description='Classify')\n",
    "btn_upload = widgets.FileUpload()\n",
    "out_pl = widgets.Output()\n",
    "lbl_pred = widgets.Label()\n",
    "\n",
    "def on_click_classify(change):\n",
    "    img = PILImage.create(btn_upload.data[-1])\n",
    "    out_pl.clear_output()\n",
    "    with out_pl: display(img.to_thumb(224,224))\n",
    "    pred,pred_idx,probs = learn_inf.predict(img)\n",
    "    lbl_pred.value = f'Prediction: {pred}; Probability: {probs[pred_idx]:.04f}'\n",
    "\n",
    "btn_run.on_click(on_click_classify)"
   ]
  },
  {
   "cell_type": "code",
   "execution_count": 15,
   "metadata": {
    "colab": {
     "base_uri": "https://localhost:8080/",
     "height": 369,
     "referenced_widgets": [
      "9864fbd3615145659bb993a218589396",
      "982ac0b6d8394c5ea059cb0ec628776e",
      "1fccf321e83f459a98425bef1c257f5b",
      "7dbbdb4db64c41048ccdbc0b27847d32",
      "4a8452d53cc948cbb694c6bb773adce1",
      "12fbdcadcc2a4ce68f68cfc5d6796ec5",
      "4b2e44a08c5049b2aa5df6034a105ea6",
      "aa3c9d6968ba42c0abe05ce8644a5e1c",
      "65ec5d5773b34b27aea59dbc3bc29d80",
      "f3eaf107658a4ddba5c68d237315985e",
      "1a98f009bea243749c016d7a0a3492f6",
      "0d65c7554dd240e4bc7f8f274b0336fb",
      "f215e12ba9f940c880410adf72827889",
      "b9f435c776fa48a296bd453a3eae73f1",
      "6996b986a17540afbff5a74ed304aa1c",
      "921d0ab5061b45d9911323fdbf6016f2"
     ]
    },
    "id": "l-WQrhhUWpSB",
    "outputId": "d393966b-035a-474f-de33-6819d606828c"
   },
   "outputs": [
    {
     "data": {
      "application/vnd.jupyter.widget-view+json": {
       "model_id": "9864fbd3615145659bb993a218589396",
       "version_major": 2,
       "version_minor": 0
      },
      "text/plain": [
       "VBox(children=(Label(value='Select your item!'), FileUpload(value={'adidas-nite-jogger-m-fv3787-shoes.jpeg': {…"
      ]
     },
     "metadata": {
      "tags": []
     },
     "output_type": "display_data"
    }
   ],
   "source": [
    "#hide_output\n",
    "VBox([widgets.Label('Select your item!'), btn_upload, btn_run, out_pl, lbl_pred])"
   ]
  },
  {
   "cell_type": "code",
   "execution_count": null,
   "metadata": {
    "id": "i5RDrT2kCU6u"
   },
   "outputs": [],
   "source": []
  }
 ],
 "metadata": {
  "accelerator": "GPU",
  "colab": {
   "collapsed_sections": [],
   "name": "hiroku",
   "provenance": []
  },
  "kernelspec": {
   "display_name": "Python 3",
   "language": "python",
   "name": "python3"
  },
  "language_info": {
   "codemirror_mode": {
    "name": "ipython",
    "version": 3
   },
   "file_extension": ".py",
   "mimetype": "text/x-python",
   "name": "python",
   "nbconvert_exporter": "python",
   "pygments_lexer": "ipython3",
   "version": "3.8.5"
  },
  "widgets": {
   "application/vnd.jupyter.widget-state+json": {
    "0d65c7554dd240e4bc7f8f274b0336fb": {
     "model_module": "@jupyter-widgets/controls",
     "model_name": "ButtonStyleModel",
     "state": {
      "_model_module": "@jupyter-widgets/controls",
      "_model_module_version": "1.5.0",
      "_model_name": "ButtonStyleModel",
      "_view_count": null,
      "_view_module": "@jupyter-widgets/base",
      "_view_module_version": "1.2.0",
      "_view_name": "StyleView",
      "button_color": null,
      "font_weight": ""
     }
    },
    "12fbdcadcc2a4ce68f68cfc5d6796ec5": {
     "model_module": "@jupyter-widgets/output",
     "model_name": "OutputModel",
     "state": {
      "_dom_classes": [],
      "_model_module": "@jupyter-widgets/output",
      "_model_module_version": "1.0.0",
      "_model_name": "OutputModel",
      "_view_count": null,
      "_view_module": "@jupyter-widgets/output",
      "_view_module_version": "1.0.0",
      "_view_name": "OutputView",
      "layout": "IPY_MODEL_921d0ab5061b45d9911323fdbf6016f2",
      "msg_id": "",
      "outputs": [
       {
        "image/png": "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\n",
        "metadata": {
         "tags": []
        },
        "output_type": "display_data",
        "text/plain": "<PIL.Image.Image image mode=RGB size=224x224 at 0x7FEF69D2AC50>"
       }
      ]
     }
    },
    "1a98f009bea243749c016d7a0a3492f6": {
     "model_module": "@jupyter-widgets/base",
     "model_name": "LayoutModel",
     "state": {
      "_model_module": "@jupyter-widgets/base",
      "_model_module_version": "1.2.0",
      "_model_name": "LayoutModel",
      "_view_count": null,
      "_view_module": "@jupyter-widgets/base",
      "_view_module_version": "1.2.0",
      "_view_name": "LayoutView",
      "align_content": null,
      "align_items": null,
      "align_self": null,
      "border": null,
      "bottom": null,
      "display": null,
      "flex": null,
      "flex_flow": null,
      "grid_area": null,
      "grid_auto_columns": null,
      "grid_auto_flow": null,
      "grid_auto_rows": null,
      "grid_column": null,
      "grid_gap": null,
      "grid_row": null,
      "grid_template_areas": null,
      "grid_template_columns": null,
      "grid_template_rows": null,
      "height": null,
      "justify_content": null,
      "justify_items": null,
      "left": null,
      "margin": null,
      "max_height": null,
      "max_width": null,
      "min_height": null,
      "min_width": null,
      "object_fit": null,
      "object_position": null,
      "order": null,
      "overflow": null,
      "overflow_x": null,
      "overflow_y": null,
      "padding": null,
      "right": null,
      "top": null,
      "visibility": null,
      "width": null
     }
    },
    "1fccf321e83f459a98425bef1c257f5b": {
     "model_module": "@jupyter-widgets/controls",
     "model_name": "LabelModel",
     "state": {
      "_dom_classes": [],
      "_model_module": "@jupyter-widgets/controls",
      "_model_module_version": "1.5.0",
      "_model_name": "LabelModel",
      "_view_count": null,
      "_view_module": "@jupyter-widgets/controls",
      "_view_module_version": "1.5.0",
      "_view_name": "LabelView",
      "description": "",
      "description_tooltip": null,
      "layout": "IPY_MODEL_65ec5d5773b34b27aea59dbc3bc29d80",
      "placeholder": "​",
      "style": "IPY_MODEL_aa3c9d6968ba42c0abe05ce8644a5e1c",
      "value": "Select your item!"
     }
    },
    "4a8452d53cc948cbb694c6bb773adce1": {
     "model_module": "@jupyter-widgets/controls",
     "model_name": "ButtonModel",
     "state": {
      "_dom_classes": [],
      "_model_module": "@jupyter-widgets/controls",
      "_model_module_version": "1.5.0",
      "_model_name": "ButtonModel",
      "_view_count": null,
      "_view_module": "@jupyter-widgets/controls",
      "_view_module_version": "1.5.0",
      "_view_name": "ButtonView",
      "button_style": "",
      "description": "Classify",
      "disabled": false,
      "icon": "",
      "layout": "IPY_MODEL_f215e12ba9f940c880410adf72827889",
      "style": "IPY_MODEL_0d65c7554dd240e4bc7f8f274b0336fb",
      "tooltip": ""
     }
    },
    "4b2e44a08c5049b2aa5df6034a105ea6": {
     "model_module": "@jupyter-widgets/controls",
     "model_name": "LabelModel",
     "state": {
      "_dom_classes": [],
      "_model_module": "@jupyter-widgets/controls",
      "_model_module_version": "1.5.0",
      "_model_name": "LabelModel",
      "_view_count": null,
      "_view_module": "@jupyter-widgets/controls",
      "_view_module_version": "1.5.0",
      "_view_name": "LabelView",
      "description": "",
      "description_tooltip": null,
      "layout": "IPY_MODEL_6996b986a17540afbff5a74ed304aa1c",
      "placeholder": "​",
      "style": "IPY_MODEL_b9f435c776fa48a296bd453a3eae73f1",
      "value": "Prediction: Footwear; Probability: 0.9982"
     }
    },
    "65ec5d5773b34b27aea59dbc3bc29d80": {
     "model_module": "@jupyter-widgets/base",
     "model_name": "LayoutModel",
     "state": {
      "_model_module": "@jupyter-widgets/base",
      "_model_module_version": "1.2.0",
      "_model_name": "LayoutModel",
      "_view_count": null,
      "_view_module": "@jupyter-widgets/base",
      "_view_module_version": "1.2.0",
      "_view_name": "LayoutView",
      "align_content": null,
      "align_items": null,
      "align_self": null,
      "border": null,
      "bottom": null,
      "display": null,
      "flex": null,
      "flex_flow": null,
      "grid_area": null,
      "grid_auto_columns": null,
      "grid_auto_flow": null,
      "grid_auto_rows": null,
      "grid_column": null,
      "grid_gap": null,
      "grid_row": null,
      "grid_template_areas": null,
      "grid_template_columns": null,
      "grid_template_rows": null,
      "height": null,
      "justify_content": null,
      "justify_items": null,
      "left": null,
      "margin": null,
      "max_height": null,
      "max_width": null,
      "min_height": null,
      "min_width": null,
      "object_fit": null,
      "object_position": null,
      "order": null,
      "overflow": null,
      "overflow_x": null,
      "overflow_y": null,
      "padding": null,
      "right": null,
      "top": null,
      "visibility": null,
      "width": null
     }
    },
    "6996b986a17540afbff5a74ed304aa1c": {
     "model_module": "@jupyter-widgets/base",
     "model_name": "LayoutModel",
     "state": {
      "_model_module": "@jupyter-widgets/base",
      "_model_module_version": "1.2.0",
      "_model_name": "LayoutModel",
      "_view_count": null,
      "_view_module": "@jupyter-widgets/base",
      "_view_module_version": "1.2.0",
      "_view_name": "LayoutView",
      "align_content": null,
      "align_items": null,
      "align_self": null,
      "border": null,
      "bottom": null,
      "display": null,
      "flex": null,
      "flex_flow": null,
      "grid_area": null,
      "grid_auto_columns": null,
      "grid_auto_flow": null,
      "grid_auto_rows": null,
      "grid_column": null,
      "grid_gap": null,
      "grid_row": null,
      "grid_template_areas": null,
      "grid_template_columns": null,
      "grid_template_rows": null,
      "height": null,
      "justify_content": null,
      "justify_items": null,
      "left": null,
      "margin": null,
      "max_height": null,
      "max_width": null,
      "min_height": null,
      "min_width": null,
      "object_fit": null,
      "object_position": null,
      "order": null,
      "overflow": null,
      "overflow_x": null,
      "overflow_y": null,
      "padding": null,
      "right": null,
      "top": null,
      "visibility": null,
      "width": null
     }
    },
    "7dbbdb4db64c41048ccdbc0b27847d32": {
     "model_module": "@jupyter-widgets/controls",
     "model_name": "FileUploadModel",
     "state": {
      "_counter": 1,
      "_dom_classes": [],
      "_model_module": "@jupyter-widgets/controls",
      "_model_module_version": "1.5.0",
      "_model_name": "FileUploadModel",
      "_view_count": null,
      "_view_module": "@jupyter-widgets/controls",
      "_view_module_version": "1.5.0",
      "_view_name": "FileUploadView",
      "accept": "",
      "button_style": "",
      "data": [
       null
      ],
      "description": "Upload",
      "description_tooltip": null,
      "disabled": false,
      "error": "",
      "icon": "upload",
      "layout": "IPY_MODEL_1a98f009bea243749c016d7a0a3492f6",
      "metadata": [
       {
        "lastModified": 1611506364358,
        "name": "adidas-nite-jogger-m-fv3787-shoes.jpeg",
        "size": 53511,
        "type": "image/jpeg"
       }
      ],
      "multiple": false,
      "style": "IPY_MODEL_f3eaf107658a4ddba5c68d237315985e"
     }
    },
    "921d0ab5061b45d9911323fdbf6016f2": {
     "model_module": "@jupyter-widgets/base",
     "model_name": "LayoutModel",
     "state": {
      "_model_module": "@jupyter-widgets/base",
      "_model_module_version": "1.2.0",
      "_model_name": "LayoutModel",
      "_view_count": null,
      "_view_module": "@jupyter-widgets/base",
      "_view_module_version": "1.2.0",
      "_view_name": "LayoutView",
      "align_content": null,
      "align_items": null,
      "align_self": null,
      "border": null,
      "bottom": null,
      "display": null,
      "flex": null,
      "flex_flow": null,
      "grid_area": null,
      "grid_auto_columns": null,
      "grid_auto_flow": null,
      "grid_auto_rows": null,
      "grid_column": null,
      "grid_gap": null,
      "grid_row": null,
      "grid_template_areas": null,
      "grid_template_columns": null,
      "grid_template_rows": null,
      "height": null,
      "justify_content": null,
      "justify_items": null,
      "left": null,
      "margin": null,
      "max_height": null,
      "max_width": null,
      "min_height": null,
      "min_width": null,
      "object_fit": null,
      "object_position": null,
      "order": null,
      "overflow": null,
      "overflow_x": null,
      "overflow_y": null,
      "padding": null,
      "right": null,
      "top": null,
      "visibility": null,
      "width": null
     }
    },
    "982ac0b6d8394c5ea059cb0ec628776e": {
     "model_module": "@jupyter-widgets/base",
     "model_name": "LayoutModel",
     "state": {
      "_model_module": "@jupyter-widgets/base",
      "_model_module_version": "1.2.0",
      "_model_name": "LayoutModel",
      "_view_count": null,
      "_view_module": "@jupyter-widgets/base",
      "_view_module_version": "1.2.0",
      "_view_name": "LayoutView",
      "align_content": null,
      "align_items": null,
      "align_self": null,
      "border": null,
      "bottom": null,
      "display": null,
      "flex": null,
      "flex_flow": null,
      "grid_area": null,
      "grid_auto_columns": null,
      "grid_auto_flow": null,
      "grid_auto_rows": null,
      "grid_column": null,
      "grid_gap": null,
      "grid_row": null,
      "grid_template_areas": null,
      "grid_template_columns": null,
      "grid_template_rows": null,
      "height": null,
      "justify_content": null,
      "justify_items": null,
      "left": null,
      "margin": null,
      "max_height": null,
      "max_width": null,
      "min_height": null,
      "min_width": null,
      "object_fit": null,
      "object_position": null,
      "order": null,
      "overflow": null,
      "overflow_x": null,
      "overflow_y": null,
      "padding": null,
      "right": null,
      "top": null,
      "visibility": null,
      "width": null
     }
    },
    "9864fbd3615145659bb993a218589396": {
     "model_module": "@jupyter-widgets/controls",
     "model_name": "VBoxModel",
     "state": {
      "_dom_classes": [],
      "_model_module": "@jupyter-widgets/controls",
      "_model_module_version": "1.5.0",
      "_model_name": "VBoxModel",
      "_view_count": null,
      "_view_module": "@jupyter-widgets/controls",
      "_view_module_version": "1.5.0",
      "_view_name": "VBoxView",
      "box_style": "",
      "children": [
       "IPY_MODEL_1fccf321e83f459a98425bef1c257f5b",
       "IPY_MODEL_7dbbdb4db64c41048ccdbc0b27847d32",
       "IPY_MODEL_4a8452d53cc948cbb694c6bb773adce1",
       "IPY_MODEL_12fbdcadcc2a4ce68f68cfc5d6796ec5",
       "IPY_MODEL_4b2e44a08c5049b2aa5df6034a105ea6"
      ],
      "layout": "IPY_MODEL_982ac0b6d8394c5ea059cb0ec628776e"
     }
    },
    "aa3c9d6968ba42c0abe05ce8644a5e1c": {
     "model_module": "@jupyter-widgets/controls",
     "model_name": "DescriptionStyleModel",
     "state": {
      "_model_module": "@jupyter-widgets/controls",
      "_model_module_version": "1.5.0",
      "_model_name": "DescriptionStyleModel",
      "_view_count": null,
      "_view_module": "@jupyter-widgets/base",
      "_view_module_version": "1.2.0",
      "_view_name": "StyleView",
      "description_width": ""
     }
    },
    "b9f435c776fa48a296bd453a3eae73f1": {
     "model_module": "@jupyter-widgets/controls",
     "model_name": "DescriptionStyleModel",
     "state": {
      "_model_module": "@jupyter-widgets/controls",
      "_model_module_version": "1.5.0",
      "_model_name": "DescriptionStyleModel",
      "_view_count": null,
      "_view_module": "@jupyter-widgets/base",
      "_view_module_version": "1.2.0",
      "_view_name": "StyleView",
      "description_width": ""
     }
    },
    "f215e12ba9f940c880410adf72827889": {
     "model_module": "@jupyter-widgets/base",
     "model_name": "LayoutModel",
     "state": {
      "_model_module": "@jupyter-widgets/base",
      "_model_module_version": "1.2.0",
      "_model_name": "LayoutModel",
      "_view_count": null,
      "_view_module": "@jupyter-widgets/base",
      "_view_module_version": "1.2.0",
      "_view_name": "LayoutView",
      "align_content": null,
      "align_items": null,
      "align_self": null,
      "border": null,
      "bottom": null,
      "display": null,
      "flex": null,
      "flex_flow": null,
      "grid_area": null,
      "grid_auto_columns": null,
      "grid_auto_flow": null,
      "grid_auto_rows": null,
      "grid_column": null,
      "grid_gap": null,
      "grid_row": null,
      "grid_template_areas": null,
      "grid_template_columns": null,
      "grid_template_rows": null,
      "height": null,
      "justify_content": null,
      "justify_items": null,
      "left": null,
      "margin": null,
      "max_height": null,
      "max_width": null,
      "min_height": null,
      "min_width": null,
      "object_fit": null,
      "object_position": null,
      "order": null,
      "overflow": null,
      "overflow_x": null,
      "overflow_y": null,
      "padding": null,
      "right": null,
      "top": null,
      "visibility": null,
      "width": null
     }
    },
    "f3eaf107658a4ddba5c68d237315985e": {
     "model_module": "@jupyter-widgets/controls",
     "model_name": "ButtonStyleModel",
     "state": {
      "_model_module": "@jupyter-widgets/controls",
      "_model_module_version": "1.5.0",
      "_model_name": "ButtonStyleModel",
      "_view_count": null,
      "_view_module": "@jupyter-widgets/base",
      "_view_module_version": "1.2.0",
      "_view_name": "StyleView",
      "button_color": null,
      "font_weight": ""
     }
    }
   }
  }
 },
 "nbformat": 4,
 "nbformat_minor": 1
}
