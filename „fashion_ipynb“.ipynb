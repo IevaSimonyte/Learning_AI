{
  "nbformat": 4,
  "nbformat_minor": 0,
  "metadata": {
    "colab": {
      "name": "„fashion.ipynb“",
      "provenance": [],
      "collapsed_sections": [],
      "toc_visible": true,
      "authorship_tag": "ABX9TyOtMU+DsTvymekq2wbe/PRF",
      "include_colab_link": true
    },
    "kernelspec": {
      "name": "python3",
      "display_name": "Python 3"
    },
    "accelerator": "GPU",
    "widgets": {
      "application/vnd.jupyter.widget-state+json": {
        "e25e9b803a104bcfb94163f916fddb1a": {
          "model_module": "@jupyter-widgets/controls",
          "model_name": "VBoxModel",
          "state": {
            "_view_name": "VBoxView",
            "_dom_classes": [],
            "_model_name": "VBoxModel",
            "_view_module": "@jupyter-widgets/controls",
            "_model_module_version": "1.5.0",
            "_view_count": null,
            "_view_module_version": "1.5.0",
            "box_style": "",
            "layout": "IPY_MODEL_c7285a1678e64b91a247ccc3e75bcc07",
            "_model_module": "@jupyter-widgets/controls",
            "children": [
              "IPY_MODEL_7975d33312c64a408b3f0339b2822922",
              "IPY_MODEL_eb3a2849d76c430f8d0d2c21508340d0",
              "IPY_MODEL_31e124fc8d774fce842e9e4f555e2ae5",
              "IPY_MODEL_2289999b63c2459b982d4c0930bcd553",
              "IPY_MODEL_a7a01d2a1e884b00bfad35ec397a313d"
            ]
          }
        },
        "c7285a1678e64b91a247ccc3e75bcc07": {
          "model_module": "@jupyter-widgets/base",
          "model_name": "LayoutModel",
          "state": {
            "_view_name": "LayoutView",
            "grid_template_rows": null,
            "right": null,
            "justify_content": null,
            "_view_module": "@jupyter-widgets/base",
            "overflow": null,
            "_model_module_version": "1.2.0",
            "_view_count": null,
            "flex_flow": null,
            "width": null,
            "min_width": null,
            "border": null,
            "align_items": null,
            "bottom": null,
            "_model_module": "@jupyter-widgets/base",
            "top": null,
            "grid_column": null,
            "overflow_y": null,
            "overflow_x": null,
            "grid_auto_flow": null,
            "grid_area": null,
            "grid_template_columns": null,
            "flex": null,
            "_model_name": "LayoutModel",
            "justify_items": null,
            "grid_row": null,
            "max_height": null,
            "align_content": null,
            "visibility": null,
            "align_self": null,
            "height": null,
            "min_height": null,
            "padding": null,
            "grid_auto_rows": null,
            "grid_gap": null,
            "max_width": null,
            "order": null,
            "_view_module_version": "1.2.0",
            "grid_template_areas": null,
            "object_position": null,
            "object_fit": null,
            "grid_auto_columns": null,
            "margin": null,
            "display": null,
            "left": null
          }
        },
        "7975d33312c64a408b3f0339b2822922": {
          "model_module": "@jupyter-widgets/controls",
          "model_name": "LabelModel",
          "state": {
            "_view_name": "LabelView",
            "style": "IPY_MODEL_089dc2b62340459a9bb1368cd2bed596",
            "_dom_classes": [],
            "description": "",
            "_model_name": "LabelModel",
            "placeholder": "​",
            "_view_module": "@jupyter-widgets/controls",
            "_model_module_version": "1.5.0",
            "value": "Select your item!",
            "_view_count": null,
            "_view_module_version": "1.5.0",
            "description_tooltip": null,
            "_model_module": "@jupyter-widgets/controls",
            "layout": "IPY_MODEL_bc3901162866437e9a5afbb7ded9d4f5"
          }
        },
        "eb3a2849d76c430f8d0d2c21508340d0": {
          "model_module": "@jupyter-widgets/controls",
          "model_name": "FileUploadModel",
          "state": {
            "_view_name": "FileUploadView",
            "_counter": 1,
            "style": "IPY_MODEL_22721952a73a470f87eeea7a77141667",
            "_dom_classes": [],
            "description": "Upload",
            "multiple": false,
            "_model_name": "FileUploadModel",
            "data": [
              null
            ],
            "button_style": "",
            "_view_module": "@jupyter-widgets/controls",
            "_model_module_version": "1.5.0",
            "accept": "",
            "_view_count": null,
            "disabled": false,
            "_view_module_version": "1.5.0",
            "error": "",
            "description_tooltip": null,
            "metadata": [
              {
                "name": "download (1).png",
                "type": "image/png",
                "size": 30150,
                "lastModified": 1612517453097
              }
            ],
            "_model_module": "@jupyter-widgets/controls",
            "layout": "IPY_MODEL_b2caaa02d5834dc5962da0ea66d815c4",
            "icon": "upload"
          }
        },
        "31e124fc8d774fce842e9e4f555e2ae5": {
          "model_module": "@jupyter-widgets/controls",
          "model_name": "ButtonModel",
          "state": {
            "_view_name": "ButtonView",
            "style": "IPY_MODEL_d267205561274968861bd08d89091c2c",
            "_dom_classes": [],
            "description": "Classify",
            "_model_name": "ButtonModel",
            "button_style": "",
            "_view_module": "@jupyter-widgets/controls",
            "_model_module_version": "1.5.0",
            "tooltip": "",
            "_view_count": null,
            "disabled": false,
            "_view_module_version": "1.5.0",
            "layout": "IPY_MODEL_daddbad35f054dfd8bcad700202b458f",
            "_model_module": "@jupyter-widgets/controls",
            "icon": ""
          }
        },
        "2289999b63c2459b982d4c0930bcd553": {
          "model_module": "@jupyter-widgets/output",
          "model_name": "OutputModel",
          "state": {
            "_view_name": "OutputView",
            "msg_id": "",
            "_dom_classes": [],
            "_model_name": "OutputModel",
            "outputs": [
              {
                "output_type": "display_data",
                "metadata": {
                  "tags": []
                },
                "image/png": "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\n",
                "text/plain": "<PIL.Image.Image image mode=RGB size=224x109 at 0x7FD817569BE0>"
              }
            ],
            "_view_module": "@jupyter-widgets/output",
            "_model_module_version": "1.0.0",
            "_view_count": null,
            "_view_module_version": "1.0.0",
            "layout": "IPY_MODEL_25cd7109176b40c8baf121f321d14343",
            "_model_module": "@jupyter-widgets/output"
          }
        },
        "a7a01d2a1e884b00bfad35ec397a313d": {
          "model_module": "@jupyter-widgets/controls",
          "model_name": "LabelModel",
          "state": {
            "_view_name": "LabelView",
            "style": "IPY_MODEL_794850ef927b4783831c506f7c9d7b76",
            "_dom_classes": [],
            "description": "",
            "_model_name": "LabelModel",
            "placeholder": "​",
            "_view_module": "@jupyter-widgets/controls",
            "_model_module_version": "1.5.0",
            "value": "Prediction: Footwear; Probability: 0.7640",
            "_view_count": null,
            "_view_module_version": "1.5.0",
            "description_tooltip": null,
            "_model_module": "@jupyter-widgets/controls",
            "layout": "IPY_MODEL_f54ec8842555442e9e14ae6d73753ed0"
          }
        },
        "089dc2b62340459a9bb1368cd2bed596": {
          "model_module": "@jupyter-widgets/controls",
          "model_name": "DescriptionStyleModel",
          "state": {
            "_view_name": "StyleView",
            "_model_name": "DescriptionStyleModel",
            "description_width": "",
            "_view_module": "@jupyter-widgets/base",
            "_model_module_version": "1.5.0",
            "_view_count": null,
            "_view_module_version": "1.2.0",
            "_model_module": "@jupyter-widgets/controls"
          }
        },
        "bc3901162866437e9a5afbb7ded9d4f5": {
          "model_module": "@jupyter-widgets/base",
          "model_name": "LayoutModel",
          "state": {
            "_view_name": "LayoutView",
            "grid_template_rows": null,
            "right": null,
            "justify_content": null,
            "_view_module": "@jupyter-widgets/base",
            "overflow": null,
            "_model_module_version": "1.2.0",
            "_view_count": null,
            "flex_flow": null,
            "width": null,
            "min_width": null,
            "border": null,
            "align_items": null,
            "bottom": null,
            "_model_module": "@jupyter-widgets/base",
            "top": null,
            "grid_column": null,
            "overflow_y": null,
            "overflow_x": null,
            "grid_auto_flow": null,
            "grid_area": null,
            "grid_template_columns": null,
            "flex": null,
            "_model_name": "LayoutModel",
            "justify_items": null,
            "grid_row": null,
            "max_height": null,
            "align_content": null,
            "visibility": null,
            "align_self": null,
            "height": null,
            "min_height": null,
            "padding": null,
            "grid_auto_rows": null,
            "grid_gap": null,
            "max_width": null,
            "order": null,
            "_view_module_version": "1.2.0",
            "grid_template_areas": null,
            "object_position": null,
            "object_fit": null,
            "grid_auto_columns": null,
            "margin": null,
            "display": null,
            "left": null
          }
        },
        "22721952a73a470f87eeea7a77141667": {
          "model_module": "@jupyter-widgets/controls",
          "model_name": "ButtonStyleModel",
          "state": {
            "_view_name": "StyleView",
            "_model_name": "ButtonStyleModel",
            "_view_module": "@jupyter-widgets/base",
            "_model_module_version": "1.5.0",
            "_view_count": null,
            "button_color": null,
            "font_weight": "",
            "_view_module_version": "1.2.0",
            "_model_module": "@jupyter-widgets/controls"
          }
        },
        "b2caaa02d5834dc5962da0ea66d815c4": {
          "model_module": "@jupyter-widgets/base",
          "model_name": "LayoutModel",
          "state": {
            "_view_name": "LayoutView",
            "grid_template_rows": null,
            "right": null,
            "justify_content": null,
            "_view_module": "@jupyter-widgets/base",
            "overflow": null,
            "_model_module_version": "1.2.0",
            "_view_count": null,
            "flex_flow": null,
            "width": null,
            "min_width": null,
            "border": null,
            "align_items": null,
            "bottom": null,
            "_model_module": "@jupyter-widgets/base",
            "top": null,
            "grid_column": null,
            "overflow_y": null,
            "overflow_x": null,
            "grid_auto_flow": null,
            "grid_area": null,
            "grid_template_columns": null,
            "flex": null,
            "_model_name": "LayoutModel",
            "justify_items": null,
            "grid_row": null,
            "max_height": null,
            "align_content": null,
            "visibility": null,
            "align_self": null,
            "height": null,
            "min_height": null,
            "padding": null,
            "grid_auto_rows": null,
            "grid_gap": null,
            "max_width": null,
            "order": null,
            "_view_module_version": "1.2.0",
            "grid_template_areas": null,
            "object_position": null,
            "object_fit": null,
            "grid_auto_columns": null,
            "margin": null,
            "display": null,
            "left": null
          }
        },
        "d267205561274968861bd08d89091c2c": {
          "model_module": "@jupyter-widgets/controls",
          "model_name": "ButtonStyleModel",
          "state": {
            "_view_name": "StyleView",
            "_model_name": "ButtonStyleModel",
            "_view_module": "@jupyter-widgets/base",
            "_model_module_version": "1.5.0",
            "_view_count": null,
            "button_color": null,
            "font_weight": "",
            "_view_module_version": "1.2.0",
            "_model_module": "@jupyter-widgets/controls"
          }
        },
        "daddbad35f054dfd8bcad700202b458f": {
          "model_module": "@jupyter-widgets/base",
          "model_name": "LayoutModel",
          "state": {
            "_view_name": "LayoutView",
            "grid_template_rows": null,
            "right": null,
            "justify_content": null,
            "_view_module": "@jupyter-widgets/base",
            "overflow": null,
            "_model_module_version": "1.2.0",
            "_view_count": null,
            "flex_flow": null,
            "width": null,
            "min_width": null,
            "border": null,
            "align_items": null,
            "bottom": null,
            "_model_module": "@jupyter-widgets/base",
            "top": null,
            "grid_column": null,
            "overflow_y": null,
            "overflow_x": null,
            "grid_auto_flow": null,
            "grid_area": null,
            "grid_template_columns": null,
            "flex": null,
            "_model_name": "LayoutModel",
            "justify_items": null,
            "grid_row": null,
            "max_height": null,
            "align_content": null,
            "visibility": null,
            "align_self": null,
            "height": null,
            "min_height": null,
            "padding": null,
            "grid_auto_rows": null,
            "grid_gap": null,
            "max_width": null,
            "order": null,
            "_view_module_version": "1.2.0",
            "grid_template_areas": null,
            "object_position": null,
            "object_fit": null,
            "grid_auto_columns": null,
            "margin": null,
            "display": null,
            "left": null
          }
        },
        "794850ef927b4783831c506f7c9d7b76": {
          "model_module": "@jupyter-widgets/controls",
          "model_name": "DescriptionStyleModel",
          "state": {
            "_view_name": "StyleView",
            "_model_name": "DescriptionStyleModel",
            "description_width": "",
            "_view_module": "@jupyter-widgets/base",
            "_model_module_version": "1.5.0",
            "_view_count": null,
            "_view_module_version": "1.2.0",
            "_model_module": "@jupyter-widgets/controls"
          }
        },
        "f54ec8842555442e9e14ae6d73753ed0": {
          "model_module": "@jupyter-widgets/base",
          "model_name": "LayoutModel",
          "state": {
            "_view_name": "LayoutView",
            "grid_template_rows": null,
            "right": null,
            "justify_content": null,
            "_view_module": "@jupyter-widgets/base",
            "overflow": null,
            "_model_module_version": "1.2.0",
            "_view_count": null,
            "flex_flow": null,
            "width": null,
            "min_width": null,
            "border": null,
            "align_items": null,
            "bottom": null,
            "_model_module": "@jupyter-widgets/base",
            "top": null,
            "grid_column": null,
            "overflow_y": null,
            "overflow_x": null,
            "grid_auto_flow": null,
            "grid_area": null,
            "grid_template_columns": null,
            "flex": null,
            "_model_name": "LayoutModel",
            "justify_items": null,
            "grid_row": null,
            "max_height": null,
            "align_content": null,
            "visibility": null,
            "align_self": null,
            "height": null,
            "min_height": null,
            "padding": null,
            "grid_auto_rows": null,
            "grid_gap": null,
            "max_width": null,
            "order": null,
            "_view_module_version": "1.2.0",
            "grid_template_areas": null,
            "object_position": null,
            "object_fit": null,
            "grid_auto_columns": null,
            "margin": null,
            "display": null,
            "left": null
          }
        },
        "25cd7109176b40c8baf121f321d14343": {
          "model_module": "@jupyter-widgets/base",
          "model_name": "LayoutModel",
          "state": {
            "_view_name": "LayoutView",
            "grid_template_rows": null,
            "right": null,
            "justify_content": null,
            "_view_module": "@jupyter-widgets/base",
            "overflow": null,
            "_model_module_version": "1.2.0",
            "_view_count": null,
            "flex_flow": null,
            "width": null,
            "min_width": null,
            "border": null,
            "align_items": null,
            "bottom": null,
            "_model_module": "@jupyter-widgets/base",
            "top": null,
            "grid_column": null,
            "overflow_y": null,
            "overflow_x": null,
            "grid_auto_flow": null,
            "grid_area": null,
            "grid_template_columns": null,
            "flex": null,
            "_model_name": "LayoutModel",
            "justify_items": null,
            "grid_row": null,
            "max_height": null,
            "align_content": null,
            "visibility": null,
            "align_self": null,
            "height": null,
            "min_height": null,
            "padding": null,
            "grid_auto_rows": null,
            "grid_gap": null,
            "max_width": null,
            "order": null,
            "_view_module_version": "1.2.0",
            "grid_template_areas": null,
            "object_position": null,
            "object_fit": null,
            "grid_auto_columns": null,
            "margin": null,
            "display": null,
            "left": null
          }
        }
      }
    }
  },
  "cells": [
    {
      "cell_type": "markdown",
      "metadata": {
        "id": "view-in-github",
        "colab_type": "text"
      },
      "source": [
        "<a href=\"https://colab.research.google.com/github/IevaSimonyte/Learning_AI/blob/main/%E2%80%9Efashion_ipynb%E2%80%9C.ipynb\" target=\"_parent\"><img src=\"https://colab.research.google.com/assets/colab-badge.svg\" alt=\"Open In Colab\"/></a>"
      ]
    },
    {
      "cell_type": "code",
      "metadata": {
        "id": "Nus4HvJmz8T6",
        "colab": {
          "base_uri": "https://localhost:8080/"
        },
        "outputId": "da347287-6a0a-47c7-a04b-d8ff4a951d35"
      },
      "source": [
        "!pip install -Uqq kaggle\r\n",
        "!pip install -Uqq fastbook"
      ],
      "execution_count": 3,
      "outputs": [
        {
          "output_type": "stream",
          "text": [
            "\u001b[?25l\r\u001b[K     |▌                               | 10kB 31.8MB/s eta 0:00:01\r\u001b[K     |█                               | 20kB 31.1MB/s eta 0:00:01\r\u001b[K     |█▍                              | 30kB 20.0MB/s eta 0:00:01\r\u001b[K     |█▉                              | 40kB 23.6MB/s eta 0:00:01\r\u001b[K     |██▎                             | 51kB 22.9MB/s eta 0:00:01\r\u001b[K     |██▊                             | 61kB 16.7MB/s eta 0:00:01\r\u001b[K     |███▏                            | 71kB 16.6MB/s eta 0:00:01\r\u001b[K     |███▋                            | 81kB 18.0MB/s eta 0:00:01\r\u001b[K     |████                            | 92kB 17.2MB/s eta 0:00:01\r\u001b[K     |████▌                           | 102kB 16.9MB/s eta 0:00:01\r\u001b[K     |█████                           | 112kB 16.9MB/s eta 0:00:01\r\u001b[K     |█████▌                          | 122kB 16.9MB/s eta 0:00:01\r\u001b[K     |██████                          | 133kB 16.9MB/s eta 0:00:01\r\u001b[K     |██████▍                         | 143kB 16.9MB/s eta 0:00:01\r\u001b[K     |██████▉                         | 153kB 16.9MB/s eta 0:00:01\r\u001b[K     |███████▎                        | 163kB 16.9MB/s eta 0:00:01\r\u001b[K     |███████▊                        | 174kB 16.9MB/s eta 0:00:01\r\u001b[K     |████████▏                       | 184kB 16.9MB/s eta 0:00:01\r\u001b[K     |████████▋                       | 194kB 16.9MB/s eta 0:00:01\r\u001b[K     |█████████                       | 204kB 16.9MB/s eta 0:00:01\r\u001b[K     |█████████▋                      | 215kB 16.9MB/s eta 0:00:01\r\u001b[K     |██████████                      | 225kB 16.9MB/s eta 0:00:01\r\u001b[K     |██████████▌                     | 235kB 16.9MB/s eta 0:00:01\r\u001b[K     |███████████                     | 245kB 16.9MB/s eta 0:00:01\r\u001b[K     |███████████▍                    | 256kB 16.9MB/s eta 0:00:01\r\u001b[K     |███████████▉                    | 266kB 16.9MB/s eta 0:00:01\r\u001b[K     |████████████▎                   | 276kB 16.9MB/s eta 0:00:01\r\u001b[K     |████████████▊                   | 286kB 16.9MB/s eta 0:00:01\r\u001b[K     |█████████████▏                  | 296kB 16.9MB/s eta 0:00:01\r\u001b[K     |█████████████▋                  | 307kB 16.9MB/s eta 0:00:01\r\u001b[K     |██████████████                  | 317kB 16.9MB/s eta 0:00:01\r\u001b[K     |██████████████▋                 | 327kB 16.9MB/s eta 0:00:01\r\u001b[K     |███████████████                 | 337kB 16.9MB/s eta 0:00:01\r\u001b[K     |███████████████▌                | 348kB 16.9MB/s eta 0:00:01\r\u001b[K     |████████████████                | 358kB 16.9MB/s eta 0:00:01\r\u001b[K     |████████████████▍               | 368kB 16.9MB/s eta 0:00:01\r\u001b[K     |████████████████▉               | 378kB 16.9MB/s eta 0:00:01\r\u001b[K     |█████████████████▎              | 389kB 16.9MB/s eta 0:00:01\r\u001b[K     |█████████████████▊              | 399kB 16.9MB/s eta 0:00:01\r\u001b[K     |██████████████████▏             | 409kB 16.9MB/s eta 0:00:01\r\u001b[K     |██████████████████▋             | 419kB 16.9MB/s eta 0:00:01\r\u001b[K     |███████████████████▏            | 430kB 16.9MB/s eta 0:00:01\r\u001b[K     |███████████████████▋            | 440kB 16.9MB/s eta 0:00:01\r\u001b[K     |████████████████████            | 450kB 16.9MB/s eta 0:00:01\r\u001b[K     |████████████████████▌           | 460kB 16.9MB/s eta 0:00:01\r\u001b[K     |█████████████████████           | 471kB 16.9MB/s eta 0:00:01\r\u001b[K     |█████████████████████▍          | 481kB 16.9MB/s eta 0:00:01\r\u001b[K     |█████████████████████▉          | 491kB 16.9MB/s eta 0:00:01\r\u001b[K     |██████████████████████▎         | 501kB 16.9MB/s eta 0:00:01\r\u001b[K     |██████████████████████▊         | 512kB 16.9MB/s eta 0:00:01\r\u001b[K     |███████████████████████▏        | 522kB 16.9MB/s eta 0:00:01\r\u001b[K     |███████████████████████▋        | 532kB 16.9MB/s eta 0:00:01\r\u001b[K     |████████████████████████▏       | 542kB 16.9MB/s eta 0:00:01\r\u001b[K     |████████████████████████▋       | 552kB 16.9MB/s eta 0:00:01\r\u001b[K     |█████████████████████████       | 563kB 16.9MB/s eta 0:00:01\r\u001b[K     |█████████████████████████▌      | 573kB 16.9MB/s eta 0:00:01\r\u001b[K     |██████████████████████████      | 583kB 16.9MB/s eta 0:00:01\r\u001b[K     |██████████████████████████▍     | 593kB 16.9MB/s eta 0:00:01\r\u001b[K     |██████████████████████████▉     | 604kB 16.9MB/s eta 0:00:01\r\u001b[K     |███████████████████████████▎    | 614kB 16.9MB/s eta 0:00:01\r\u001b[K     |███████████████████████████▊    | 624kB 16.9MB/s eta 0:00:01\r\u001b[K     |████████████████████████████▏   | 634kB 16.9MB/s eta 0:00:01\r\u001b[K     |████████████████████████████▊   | 645kB 16.9MB/s eta 0:00:01\r\u001b[K     |█████████████████████████████▏  | 655kB 16.9MB/s eta 0:00:01\r\u001b[K     |█████████████████████████████▋  | 665kB 16.9MB/s eta 0:00:01\r\u001b[K     |██████████████████████████████  | 675kB 16.9MB/s eta 0:00:01\r\u001b[K     |██████████████████████████████▌ | 686kB 16.9MB/s eta 0:00:01\r\u001b[K     |███████████████████████████████ | 696kB 16.9MB/s eta 0:00:01\r\u001b[K     |███████████████████████████████▍| 706kB 16.9MB/s eta 0:00:01\r\u001b[K     |███████████████████████████████▉| 716kB 16.9MB/s eta 0:00:01\r\u001b[K     |████████████████████████████████| 727kB 16.9MB/s \n",
            "\u001b[K     |████████████████████████████████| 194kB 58.2MB/s \n",
            "\u001b[K     |████████████████████████████████| 1.2MB 49.8MB/s \n",
            "\u001b[K     |████████████████████████████████| 51kB 9.5MB/s \n",
            "\u001b[K     |████████████████████████████████| 61kB 10.9MB/s \n",
            "\u001b[?25h"
          ],
          "name": "stdout"
        }
      ]
    },
    {
      "cell_type": "code",
      "metadata": {
        "id": "WskjalEWPh0C"
      },
      "source": [
        "from fastbook import *\r\n",
        "from fastai.vision.widgets import *\r\n",
        "import pandas as pd, os, json"
      ],
      "execution_count": 4,
      "outputs": []
    },
    {
      "cell_type": "code",
      "metadata": {
        "colab": {
          "base_uri": "https://localhost:8080/"
        },
        "id": "jybgEXLQ5x5Y",
        "outputId": "5cb30837-d196-43a4-a6d2-2ccbc2be18da"
      },
      "source": [
        "from google.colab import drive\r\n",
        "drive.mount('/content/drive')"
      ],
      "execution_count": 5,
      "outputs": [
        {
          "output_type": "stream",
          "text": [
            "Mounted at /content/drive\n"
          ],
          "name": "stdout"
        }
      ]
    },
    {
      "cell_type": "markdown",
      "metadata": {
        "id": "y3C4MYWxhc6A"
      },
      "source": [
        "### Training on fashion dataset"
      ]
    },
    {
      "cell_type": "code",
      "metadata": {
        "id": "aiyx77TbiQu7",
        "colab": {
          "base_uri": "https://localhost:8080/"
        },
        "outputId": "7dcdd55f-984c-4d1b-e09d-22b201aca3c1"
      },
      "source": [
        "api_token = {\"username\":\"ievasim\",\"key\":\"fab97f3afe1095d95dbc4ce9c503dbd6\"}\r\n",
        "\r\n",
        "!mkdir .kaggle\r\n",
        "\r\n",
        "with open('/content/.kaggle/kaggle.json', 'w') as file:\r\n",
        "  json.dump(api_token, file)\r\n",
        "\r\n",
        "!chmod 600 /content/.kaggle/kaggle.json \r\n",
        "!cp /content/.kaggle/kaggle.json ~/.kaggle/\r\n",
        "!mkdir /fashion\r\n",
        "!kaggle datasets download -d paramaggarwal/fashion-product-images-small -p /fashion/\r\n",
        "!unzip -q /fashion/fashion-product-images-small.zip -d /fashion"
      ],
      "execution_count": 7,
      "outputs": [
        {
          "output_type": "stream",
          "text": [
            "mkdir: cannot create directory ‘.kaggle’: File exists\n",
            "mkdir: cannot create directory ‘/fashion’: File exists\n",
            "Downloading fashion-product-images-small.zip to /fashion\n",
            " 98% 553M/565M [00:11<00:00, 52.5MB/s]\n",
            "100% 565M/565M [00:11<00:00, 52.1MB/s]\n"
          ],
          "name": "stdout"
        }
      ]
    },
    {
      "cell_type": "code",
      "metadata": {
        "id": "wtAJpL4dAZPW",
        "colab": {
          "base_uri": "https://localhost:8080/",
          "height": 230
        },
        "outputId": "66006e5e-6cec-4c34-b727-ccdc260d77f4"
      },
      "source": [
        "df = pd.read_csv('/fashion/myntradataset/styles.csv',  error_bad_lines=False)\r\n",
        "df.head(3)"
      ],
      "execution_count": 8,
      "outputs": [
        {
          "output_type": "stream",
          "text": [
            "b'Skipping line 6044: expected 10 fields, saw 11\\nSkipping line 6569: expected 10 fields, saw 11\\nSkipping line 7399: expected 10 fields, saw 11\\nSkipping line 7939: expected 10 fields, saw 11\\nSkipping line 9026: expected 10 fields, saw 11\\nSkipping line 10264: expected 10 fields, saw 11\\nSkipping line 10427: expected 10 fields, saw 11\\nSkipping line 10905: expected 10 fields, saw 11\\nSkipping line 11373: expected 10 fields, saw 11\\nSkipping line 11945: expected 10 fields, saw 11\\nSkipping line 14112: expected 10 fields, saw 11\\nSkipping line 14532: expected 10 fields, saw 11\\nSkipping line 15076: expected 10 fields, saw 12\\nSkipping line 29906: expected 10 fields, saw 11\\nSkipping line 31625: expected 10 fields, saw 11\\nSkipping line 33020: expected 10 fields, saw 11\\nSkipping line 35748: expected 10 fields, saw 11\\nSkipping line 35962: expected 10 fields, saw 11\\nSkipping line 37770: expected 10 fields, saw 11\\nSkipping line 38105: expected 10 fields, saw 11\\nSkipping line 38275: expected 10 fields, saw 11\\nSkipping line 38404: expected 10 fields, saw 12\\n'\n"
          ],
          "name": "stderr"
        },
        {
          "output_type": "execute_result",
          "data": {
            "text/html": [
              "<div>\n",
              "<style scoped>\n",
              "    .dataframe tbody tr th:only-of-type {\n",
              "        vertical-align: middle;\n",
              "    }\n",
              "\n",
              "    .dataframe tbody tr th {\n",
              "        vertical-align: top;\n",
              "    }\n",
              "\n",
              "    .dataframe thead th {\n",
              "        text-align: right;\n",
              "    }\n",
              "</style>\n",
              "<table border=\"1\" class=\"dataframe\">\n",
              "  <thead>\n",
              "    <tr style=\"text-align: right;\">\n",
              "      <th></th>\n",
              "      <th>id</th>\n",
              "      <th>gender</th>\n",
              "      <th>masterCategory</th>\n",
              "      <th>subCategory</th>\n",
              "      <th>articleType</th>\n",
              "      <th>baseColour</th>\n",
              "      <th>season</th>\n",
              "      <th>year</th>\n",
              "      <th>usage</th>\n",
              "      <th>productDisplayName</th>\n",
              "    </tr>\n",
              "  </thead>\n",
              "  <tbody>\n",
              "    <tr>\n",
              "      <th>0</th>\n",
              "      <td>15970</td>\n",
              "      <td>Men</td>\n",
              "      <td>Apparel</td>\n",
              "      <td>Topwear</td>\n",
              "      <td>Shirts</td>\n",
              "      <td>Navy Blue</td>\n",
              "      <td>Fall</td>\n",
              "      <td>2011.0</td>\n",
              "      <td>Casual</td>\n",
              "      <td>Turtle Check Men Navy Blue Shirt</td>\n",
              "    </tr>\n",
              "    <tr>\n",
              "      <th>1</th>\n",
              "      <td>39386</td>\n",
              "      <td>Men</td>\n",
              "      <td>Apparel</td>\n",
              "      <td>Bottomwear</td>\n",
              "      <td>Jeans</td>\n",
              "      <td>Blue</td>\n",
              "      <td>Summer</td>\n",
              "      <td>2012.0</td>\n",
              "      <td>Casual</td>\n",
              "      <td>Peter England Men Party Blue Jeans</td>\n",
              "    </tr>\n",
              "    <tr>\n",
              "      <th>2</th>\n",
              "      <td>59263</td>\n",
              "      <td>Women</td>\n",
              "      <td>Accessories</td>\n",
              "      <td>Watches</td>\n",
              "      <td>Watches</td>\n",
              "      <td>Silver</td>\n",
              "      <td>Winter</td>\n",
              "      <td>2016.0</td>\n",
              "      <td>Casual</td>\n",
              "      <td>Titan Women Silver Watch</td>\n",
              "    </tr>\n",
              "  </tbody>\n",
              "</table>\n",
              "</div>"
            ],
            "text/plain": [
              "      id gender masterCategory subCategory articleType baseColour  season  \\\n",
              "0  15970    Men        Apparel     Topwear      Shirts  Navy Blue    Fall   \n",
              "1  39386    Men        Apparel  Bottomwear       Jeans       Blue  Summer   \n",
              "2  59263  Women    Accessories     Watches     Watches     Silver  Winter   \n",
              "\n",
              "     year   usage                  productDisplayName  \n",
              "0  2011.0  Casual    Turtle Check Men Navy Blue Shirt  \n",
              "1  2012.0  Casual  Peter England Men Party Blue Jeans  \n",
              "2  2016.0  Casual            Titan Women Silver Watch  "
            ]
          },
          "metadata": {
            "tags": []
          },
          "execution_count": 8
        }
      ]
    },
    {
      "cell_type": "code",
      "metadata": {
        "colab": {
          "base_uri": "https://localhost:8080/"
        },
        "id": "9NdQb56WODx5",
        "outputId": "37c06619-2914-42a2-e141-e6effcfae93e"
      },
      "source": [
        "df.masterCategory.describe()"
      ],
      "execution_count": 9,
      "outputs": [
        {
          "output_type": "execute_result",
          "data": {
            "text/plain": [
              "count       44424\n",
              "unique          7\n",
              "top       Apparel\n",
              "freq        21397\n",
              "Name: masterCategory, dtype: object"
            ]
          },
          "metadata": {
            "tags": []
          },
          "execution_count": 9
        }
      ]
    },
    {
      "cell_type": "code",
      "metadata": {
        "colab": {
          "base_uri": "https://localhost:8080/"
        },
        "id": "LglOpHJzOKCB",
        "outputId": "498da806-9ebe-4d47-f778-908503ecfc5e"
      },
      "source": [
        "df.masterCategory.value_counts()"
      ],
      "execution_count": 10,
      "outputs": [
        {
          "output_type": "execute_result",
          "data": {
            "text/plain": [
              "Apparel           21397\n",
              "Accessories       11274\n",
              "Footwear           9219\n",
              "Personal Care      2403\n",
              "Free Items          105\n",
              "Sporting Goods       25\n",
              "Home                  1\n",
              "Name: masterCategory, dtype: int64"
            ]
          },
          "metadata": {
            "tags": []
          },
          "execution_count": 10
        }
      ]
    },
    {
      "cell_type": "code",
      "metadata": {
        "colab": {
          "base_uri": "https://localhost:8080/"
        },
        "id": "YZk_e6-YOdnU",
        "outputId": "427dfb18-1367-44bb-a9e9-923d297a2879"
      },
      "source": [
        "to_omit = ['Free Items', 'Sporting Goods', 'Home']\r\n",
        "df = df[~df.masterCategory.str.contains('|'.join(to_omit))]\r\n",
        "df.masterCategory.value_counts()"
      ],
      "execution_count": 11,
      "outputs": [
        {
          "output_type": "execute_result",
          "data": {
            "text/plain": [
              "Apparel          21397\n",
              "Accessories      11274\n",
              "Footwear          9219\n",
              "Personal Care     2403\n",
              "Name: masterCategory, dtype: int64"
            ]
          },
          "metadata": {
            "tags": []
          },
          "execution_count": 11
        }
      ]
    },
    {
      "cell_type": "code",
      "metadata": {
        "id": "tGbYPQOZHlEM"
      },
      "source": [
        "path = \"/fashion/myntradataset/\""
      ],
      "execution_count": 12,
      "outputs": []
    },
    {
      "cell_type": "code",
      "metadata": {
        "colab": {
          "base_uri": "https://localhost:8080/",
          "height": 117
        },
        "id": "DMHVD3Q2JnNw",
        "outputId": "2a9771ca-74a4-4152-839b-8ba92a2abb0d"
      },
      "source": [
        "df.id = [\"{}.jpg\".format(i) for i in df.id]\r\n",
        "df.head(1)"
      ],
      "execution_count": 13,
      "outputs": [
        {
          "output_type": "execute_result",
          "data": {
            "text/html": [
              "<div>\n",
              "<style scoped>\n",
              "    .dataframe tbody tr th:only-of-type {\n",
              "        vertical-align: middle;\n",
              "    }\n",
              "\n",
              "    .dataframe tbody tr th {\n",
              "        vertical-align: top;\n",
              "    }\n",
              "\n",
              "    .dataframe thead th {\n",
              "        text-align: right;\n",
              "    }\n",
              "</style>\n",
              "<table border=\"1\" class=\"dataframe\">\n",
              "  <thead>\n",
              "    <tr style=\"text-align: right;\">\n",
              "      <th></th>\n",
              "      <th>id</th>\n",
              "      <th>gender</th>\n",
              "      <th>masterCategory</th>\n",
              "      <th>subCategory</th>\n",
              "      <th>articleType</th>\n",
              "      <th>baseColour</th>\n",
              "      <th>season</th>\n",
              "      <th>year</th>\n",
              "      <th>usage</th>\n",
              "      <th>productDisplayName</th>\n",
              "    </tr>\n",
              "  </thead>\n",
              "  <tbody>\n",
              "    <tr>\n",
              "      <th>0</th>\n",
              "      <td>15970.jpg</td>\n",
              "      <td>Men</td>\n",
              "      <td>Apparel</td>\n",
              "      <td>Topwear</td>\n",
              "      <td>Shirts</td>\n",
              "      <td>Navy Blue</td>\n",
              "      <td>Fall</td>\n",
              "      <td>2011.0</td>\n",
              "      <td>Casual</td>\n",
              "      <td>Turtle Check Men Navy Blue Shirt</td>\n",
              "    </tr>\n",
              "  </tbody>\n",
              "</table>\n",
              "</div>"
            ],
            "text/plain": [
              "          id gender masterCategory subCategory articleType baseColour season  \\\n",
              "0  15970.jpg    Men        Apparel     Topwear      Shirts  Navy Blue   Fall   \n",
              "\n",
              "     year   usage                productDisplayName  \n",
              "0  2011.0  Casual  Turtle Check Men Navy Blue Shirt  "
            ]
          },
          "metadata": {
            "tags": []
          },
          "execution_count": 13
        }
      ]
    },
    {
      "cell_type": "code",
      "metadata": {
        "id": "AkEqfWSl_gJk",
        "colab": {
          "base_uri": "https://localhost:8080/",
          "height": 117
        },
        "outputId": "5435174e-f142-4919-f6cd-cda67d3d60c9"
      },
      "source": [
        "broken_img = ['39401.jpg', '12347.jpg', '39425.jpg', '39403.jpg', '39410.jpg']\r\n",
        "df = df[~df.id.str.contains('|'.join(broken_img))]\r\n",
        "df.head(1)"
      ],
      "execution_count": 14,
      "outputs": [
        {
          "output_type": "execute_result",
          "data": {
            "text/html": [
              "<div>\n",
              "<style scoped>\n",
              "    .dataframe tbody tr th:only-of-type {\n",
              "        vertical-align: middle;\n",
              "    }\n",
              "\n",
              "    .dataframe tbody tr th {\n",
              "        vertical-align: top;\n",
              "    }\n",
              "\n",
              "    .dataframe thead th {\n",
              "        text-align: right;\n",
              "    }\n",
              "</style>\n",
              "<table border=\"1\" class=\"dataframe\">\n",
              "  <thead>\n",
              "    <tr style=\"text-align: right;\">\n",
              "      <th></th>\n",
              "      <th>id</th>\n",
              "      <th>gender</th>\n",
              "      <th>masterCategory</th>\n",
              "      <th>subCategory</th>\n",
              "      <th>articleType</th>\n",
              "      <th>baseColour</th>\n",
              "      <th>season</th>\n",
              "      <th>year</th>\n",
              "      <th>usage</th>\n",
              "      <th>productDisplayName</th>\n",
              "    </tr>\n",
              "  </thead>\n",
              "  <tbody>\n",
              "    <tr>\n",
              "      <th>0</th>\n",
              "      <td>15970.jpg</td>\n",
              "      <td>Men</td>\n",
              "      <td>Apparel</td>\n",
              "      <td>Topwear</td>\n",
              "      <td>Shirts</td>\n",
              "      <td>Navy Blue</td>\n",
              "      <td>Fall</td>\n",
              "      <td>2011.0</td>\n",
              "      <td>Casual</td>\n",
              "      <td>Turtle Check Men Navy Blue Shirt</td>\n",
              "    </tr>\n",
              "  </tbody>\n",
              "</table>\n",
              "</div>"
            ],
            "text/plain": [
              "          id gender masterCategory subCategory articleType baseColour season  \\\n",
              "0  15970.jpg    Men        Apparel     Topwear      Shirts  Navy Blue   Fall   \n",
              "\n",
              "     year   usage                productDisplayName  \n",
              "0  2011.0  Casual  Turtle Check Men Navy Blue Shirt  "
            ]
          },
          "metadata": {
            "tags": []
          },
          "execution_count": 14
        }
      ]
    },
    {
      "cell_type": "code",
      "metadata": {
        "id": "ampIFxwtD9ex"
      },
      "source": [
        "transf = Resize(128)\r\n",
        "#transf = Resize(128, ResizeMethod.Squish)\r\n",
        "#transf = Resize(128, ResizeMethod.Pad, pad_mode='zeros')\r\n",
        "#transf = RandomResizedCrop(128, min_scale=0.3)\r\n",
        "\r\n",
        "\r\n",
        "dls = ImageDataLoaders.from_df(df, path=path,  fn_col=0, folder='images', \\\r\n",
        "                               label_col=2, item_tfms=transf, batch_tfms=aug_transforms(mult=2))\r\n",
        "\r\n",
        "#dls = ImageDataLoaders.from_df(df, path=path,  fn_col=0, folder='images', \\\r\n",
        "                               #label_col=2, item_tfms=transf)"
      ],
      "execution_count": 87,
      "outputs": []
    },
    {
      "cell_type": "code",
      "metadata": {
        "colab": {
          "base_uri": "https://localhost:8080/",
          "height": 193
        },
        "id": "ny15DEMmH3MT",
        "outputId": "e3658905-0879-4660-9d9b-28f9ddb5e62e"
      },
      "source": [
        "dls.valid.show_batch(max_n=4, nrows=1)"
      ],
      "execution_count": 88,
      "outputs": [
        {
          "output_type": "display_data",
          "data": {
            "image/png": "[encoded data removed]",
            "text/plain": [
              "<Figure size 864x216 with 4 Axes>"
            ]
          },
          "metadata": {
            "tags": [],
            "needs_background": "light"
          }
        }
      ]
    },
    {
      "cell_type": "code",
      "metadata": {
        "colab": {
          "base_uri": "https://localhost:8080/",
          "height": 203
        },
        "id": "aajdpzItlERu",
        "outputId": "ecf1e425-f18b-4c50-f717-ca9a62613c69"
      },
      "source": [
        "learn = cnn_learner(dls, resnet18, metrics=error_rate)\r\n",
        "learn.fine_tune(3)"
      ],
      "execution_count": 89,
      "outputs": [
        {
          "output_type": "display_data",
          "data": {
            "text/html": [
              "<table border=\"1\" class=\"dataframe\">\n",
              "  <thead>\n",
              "    <tr style=\"text-align: left;\">\n",
              "      <th>epoch</th>\n",
              "      <th>train_loss</th>\n",
              "      <th>valid_loss</th>\n",
              "      <th>error_rate</th>\n",
              "      <th>time</th>\n",
              "    </tr>\n",
              "  </thead>\n",
              "  <tbody>\n",
              "    <tr>\n",
              "      <td>0</td>\n",
              "      <td>0.254212</td>\n",
              "      <td>0.106904</td>\n",
              "      <td>0.034888</td>\n",
              "      <td>01:29</td>\n",
              "    </tr>\n",
              "  </tbody>\n",
              "</table>"
            ],
            "text/plain": [
              "<IPython.core.display.HTML object>"
            ]
          },
          "metadata": {
            "tags": []
          }
        },
        {
          "output_type": "display_data",
          "data": {
            "text/html": [
              "<table border=\"1\" class=\"dataframe\">\n",
              "  <thead>\n",
              "    <tr style=\"text-align: left;\">\n",
              "      <th>epoch</th>\n",
              "      <th>train_loss</th>\n",
              "      <th>valid_loss</th>\n",
              "      <th>error_rate</th>\n",
              "      <th>time</th>\n",
              "    </tr>\n",
              "  </thead>\n",
              "  <tbody>\n",
              "    <tr>\n",
              "      <td>0</td>\n",
              "      <td>0.104597</td>\n",
              "      <td>0.039054</td>\n",
              "      <td>0.011968</td>\n",
              "      <td>01:36</td>\n",
              "    </tr>\n",
              "    <tr>\n",
              "      <td>1</td>\n",
              "      <td>0.063459</td>\n",
              "      <td>0.025814</td>\n",
              "      <td>0.007452</td>\n",
              "      <td>01:36</td>\n",
              "    </tr>\n",
              "    <tr>\n",
              "      <td>2</td>\n",
              "      <td>0.036973</td>\n",
              "      <td>0.021442</td>\n",
              "      <td>0.006210</td>\n",
              "      <td>01:37</td>\n",
              "    </tr>\n",
              "  </tbody>\n",
              "</table>"
            ],
            "text/plain": [
              "<IPython.core.display.HTML object>"
            ]
          },
          "metadata": {
            "tags": []
          }
        }
      ]
    },
    {
      "cell_type": "code",
      "metadata": {
        "id": "1lO8TvuYlr-l",
        "colab": {
          "base_uri": "https://localhost:8080/",
          "height": 310
        },
        "outputId": "31ec791b-702c-4ac9-c2ab-092dcaaaaa77"
      },
      "source": [
        "interp = ClassificationInterpretation.from_learner(learn)\r\n",
        "interp.plot_confusion_matrix()"
      ],
      "execution_count": 90,
      "outputs": [
        {
          "output_type": "display_data",
          "data": {
            "text/html": [
              ""
            ],
            "text/plain": [
              "<IPython.core.display.HTML object>"
            ]
          },
          "metadata": {
            "tags": []
          }
        },
        {
          "output_type": "display_data",
          "data": {
            "image/png": "[encoded data removed]",
            "text/plain": [
              "<Figure size 432x288 with 1 Axes>"
            ]
          },
          "metadata": {
            "tags": [],
            "needs_background": "light"
          }
        }
      ]
    },
    {
      "cell_type": "code",
      "metadata": {
        "colab": {
          "base_uri": "https://localhost:8080/",
          "height": 400
        },
        "id": "stMTVF7QRH3Q",
        "outputId": "e06af104-430d-40a2-9b27-f9eda18b224f"
      },
      "source": [
        "interp.plot_top_losses(2, nrows=2)"
      ],
      "execution_count": 91,
      "outputs": [
        {
          "output_type": "display_data",
          "data": {
            "image/png": "[encoded data removed]",
            "text/plain": [
              "<Figure size 216x432 with 2 Axes>"
            ]
          },
          "metadata": {
            "tags": [],
            "needs_background": "light"
          }
        }
      ]
    },
    {
      "cell_type": "markdown",
      "metadata": {
        "id": "o8J8d91G5Si3"
      },
      "source": [
        "### Exporting model"
      ]
    },
    {
      "cell_type": "code",
      "metadata": {
        "colab": {
          "base_uri": "https://localhost:8080/"
        },
        "id": "ZldDMVCK5ckU",
        "outputId": "c34770b2-b6be-4191-8b99-3a8004919d6a"
      },
      "source": [
        " path_general = Path(\"/fashion\")\r\n",
        " learn.export(path_general/'export.pkl')\r\n",
        " learn.save(path_general/'export')"
      ],
      "execution_count": 92,
      "outputs": [
        {
          "output_type": "execute_result",
          "data": {
            "text/plain": [
              "Path('/fashion/export.pth')"
            ]
          },
          "metadata": {
            "tags": []
          },
          "execution_count": 92
        }
      ]
    },
    {
      "cell_type": "markdown",
      "metadata": {
        "id": "6BBgZ4x05l7c"
      },
      "source": [
        "### Loading saved model from .pkl file"
      ]
    },
    {
      "cell_type": "code",
      "metadata": {
        "colab": {
          "base_uri": "https://localhost:8080/"
        },
        "id": "iU9v6ndJ5qm-",
        "outputId": "1f16ceeb-a413-4bc1-f4be-5727aaf303b2"
      },
      "source": [
        "learn_inf = load_learner(path_general/'export.pkl') # loading saved model\r\n",
        "#learn_inf = load_learner('/content/export.pkl') # load model imported from drive\r\n",
        "#learn_inf = load_model(path_general/'export.pth') # builds on top of learner\r\n",
        "\r\n",
        "# loading model saved in dropbox\r\n",
        "url = \"https://www.dropbox.com/s/pk6z5wuvefguz0p/export.pkl?dl=1\"\r\n",
        "urllib.request.urlretrieve(url, \"export.pkl\")\r\n",
        "#learn_inf = load_learner('/content/export.pkl')\r\n",
        "learn_inf.dls.vocab"
      ],
      "execution_count": 96,
      "outputs": [
        {
          "output_type": "execute_result",
          "data": {
            "text/plain": [
              "['Accessories', 'Apparel', 'Footwear', 'Personal Care']"
            ]
          },
          "metadata": {
            "tags": []
          },
          "execution_count": 96
        }
      ]
    },
    {
      "cell_type": "markdown",
      "metadata": {
        "id": "Ipe3x6Rw6OBL"
      },
      "source": [
        "### Deploying model with GUI"
      ]
    },
    {
      "cell_type": "code",
      "metadata": {
        "colab": {
          "base_uri": "https://localhost:8080/",
          "height": 254,
          "referenced_widgets": [
            "e25e9b803a104bcfb94163f916fddb1a",
            "c7285a1678e64b91a247ccc3e75bcc07",
            "7975d33312c64a408b3f0339b2822922",
            "eb3a2849d76c430f8d0d2c21508340d0",
            "31e124fc8d774fce842e9e4f555e2ae5",
            "2289999b63c2459b982d4c0930bcd553",
            "a7a01d2a1e884b00bfad35ec397a313d",
            "089dc2b62340459a9bb1368cd2bed596",
            "bc3901162866437e9a5afbb7ded9d4f5",
            "22721952a73a470f87eeea7a77141667",
            "b2caaa02d5834dc5962da0ea66d815c4",
            "d267205561274968861bd08d89091c2c",
            "daddbad35f054dfd8bcad700202b458f",
            "794850ef927b4783831c506f7c9d7b76",
            "f54ec8842555442e9e14ae6d73753ed0",
            "25cd7109176b40c8baf121f321d14343"
          ]
        },
        "id": "Jjygv4vC6bIQ",
        "outputId": "44abc93a-579f-404a-c7f9-934d8028bbe2"
      },
      "source": [
        "btn_run = widgets.Button(description='Classify')\r\n",
        "btn_upload = widgets.FileUpload()\r\n",
        "out_pl = widgets.Output()\r\n",
        "lbl_pred = widgets.Label()\r\n",
        "\r\n",
        "def on_click_classify(change):\r\n",
        "    img = PILImage.create(btn_upload.data[-1])\r\n",
        "    #img =  PILImage(img.resize(size = (128,128)))\r\n",
        "    out_pl.clear_output()\r\n",
        "    with out_pl: display(img.to_thumb(224,224))\r\n",
        "    pred,pred_idx,probs = learn_inf.predict(img)\r\n",
        "    lbl_pred.value = f'Prediction: {pred}; Probability: {probs[pred_idx]:.04f}'\r\n",
        "\r\n",
        "btn_run.on_click(on_click_classify)\r\n",
        "\r\n",
        "#hide_output\r\n",
        "VBox([widgets.Label('Select your item!'), btn_upload, btn_run, out_pl, lbl_pred])"
      ],
      "execution_count": 97,
      "outputs": [
        {
          "output_type": "display_data",
          "data": {
            "application/vnd.jupyter.widget-view+json": {
              "model_id": "e25e9b803a104bcfb94163f916fddb1a",
              "version_minor": 0,
              "version_major": 2
            },
            "text/plain": [
              "VBox(children=(Label(value='Select your item!'), FileUpload(value={}, description='Upload'), Button(descriptio…"
            ]
          },
          "metadata": {
            "tags": []
          }
        },
        {
          "output_type": "display_data",
          "data": {
            "text/html": [
              ""
            ],
            "text/plain": [
              "<IPython.core.display.HTML object>"
            ]
          },
          "metadata": {
            "tags": []
          }
        }
      ]
    },
    {
      "cell_type": "markdown",
      "metadata": {
        "id": "WNV3Ky0bbyGQ"
      },
      "source": [
        "### Additional testing on images from internet "
      ]
    },
    {
      "cell_type": "code",
      "metadata": {
        "id": "UX8zJz4N-Qz7"
      },
      "source": [
        "key = os.environ.get('AZURE_SEARCH_KEY', 'f8c339de1905472699596840822969d2')"
      ],
      "execution_count": 98,
      "outputs": []
    },
    {
      "cell_type": "code",
      "metadata": {
        "id": "YGp6ED7m-Q87"
      },
      "source": [
        "item_types = 'shoes','earings','dress'\r\n",
        "path_test = Path('fashion_test')"
      ],
      "execution_count": 99,
      "outputs": []
    },
    {
      "cell_type": "code",
      "metadata": {
        "id": "akS994x3_Sqi"
      },
      "source": [
        "if not path_test.exists():\r\n",
        "    path_test.mkdir()\r\n",
        "    for o in item_types:\r\n",
        "        dest = (path_test/o)\r\n",
        "        dest.mkdir(exist_ok=True)\r\n",
        "        results = search_images_bing(key, o)\r\n",
        "        download_images(dest, urls=results.attrgot('contentUrl'))"
      ],
      "execution_count": 100,
      "outputs": []
    },
    {
      "cell_type": "code",
      "metadata": {
        "colab": {
          "base_uri": "https://localhost:8080/",
          "height": 1000
        },
        "id": "q9-28x7rgJDq",
        "outputId": "aeea102c-e57f-4ab5-8662-b034defe3dc9"
      },
      "source": [
        "test_categories = [\"Apparel\", \"Accessories\", \"Footwear\"]\r\n",
        "test_items = [\"dress\", \"earings\", \"shoes\"]\r\n",
        "test_accuracy = {}\r\n",
        "for j in range(len(test_categories)):\r\n",
        "  print(\" \")\r\n",
        "  print(\"Missclassified {}:\".format(test_items[j]))\r\n",
        "  print(\" \")\r\n",
        "  broken_img=0\r\n",
        "  false_pred=0\r\n",
        "  nr_files = 0\r\n",
        "  item_dir = Path(path_test/test_items[j])\r\n",
        "  for i in os.listdir(item_dir):\r\n",
        "    imgdir = Path(item_dir)/Path(i)\r\n",
        "    if verify_image(imgdir) is True:\r\n",
        "        nr_files+=1\r\n",
        "        pred,pred_idx,probs = learn_inf.predict(imgdir)\r\n",
        "        if pred != test_categories[j] :\r\n",
        "            false_pred+=1\r\n",
        "            if false_pred < 4:\r\n",
        "              print(test_items[j], \"classified as\", pred, \"with prob. of\", round(float(probs.max()),2))\r\n",
        "              img = PILImage.create(imgdir)\r\n",
        "              display(img.to_thumb(128,128))\r\n",
        "    else:\r\n",
        "          pass\r\n",
        "    test_accuracy[test_items[j]] = 1 - false_pred / (nr_files)"
      ],
      "execution_count": 101,
      "outputs": [
        {
          "output_type": "stream",
          "text": [
            " \n",
            "Missclassified dress:\n",
            " \n"
          ],
          "name": "stdout"
        },
        {
          "output_type": "display_data",
          "data": {
            "text/html": [
              ""
            ],
            "text/plain": [
              "<IPython.core.display.HTML object>"
            ]
          },
          "metadata": {
            "tags": []
          }
        },
        {
          "output_type": "display_data",
          "data": {
            "text/html": [
              ""
            ],
            "text/plain": [
              "<IPython.core.display.HTML object>"
            ]
          },
          "metadata": {
            "tags": []
          }
        },
        {
          "output_type": "display_data",
          "data": {
            "text/html": [
              ""
            ],
            "text/plain": [
              "<IPython.core.display.HTML object>"
            ]
          },
          "metadata": {
            "tags": []
          }
        },
        {
          "output_type": "display_data",
          "data": {
            "text/html": [
              ""
            ],
            "text/plain": [
              "<IPython.core.display.HTML object>"
            ]
          },
          "metadata": {
            "tags": []
          }
        },
        {
          "output_type": "display_data",
          "data": {
            "text/html": [
              ""
            ],
            "text/plain": [
              "<IPython.core.display.HTML object>"
            ]
          },
          "metadata": {
            "tags": []
          }
        },
        {
          "output_type": "display_data",
          "data": {
            "text/html": [
              ""
            ],
            "text/plain": [
              "<IPython.core.display.HTML object>"
            ]
          },
          "metadata": {
            "tags": []
          }
        },
        {
          "output_type": "display_data",
          "data": {
            "text/html": [
              ""
            ],
            "text/plain": [
              "<IPython.core.display.HTML object>"
            ]
          },
          "metadata": {
            "tags": []
          }
        },
        {
          "output_type": "display_data",
          "data": {
            "text/html": [
              ""
            ],
            "text/plain": [
              "<IPython.core.display.HTML object>"
            ]
          },
          "metadata": {
            "tags": []
          }
        },
        {
          "output_type": "display_data",
          "data": {
            "text/html": [
              ""
            ],
            "text/plain": [
              "<IPython.core.display.HTML object>"
            ]
          },
          "metadata": {
            "tags": []
          }
        },
        {
          "output_type": "display_data",
          "data": {
            "text/html": [
              ""
            ],
            "text/plain": [
              "<IPython.core.display.HTML object>"
            ]
          },
          "metadata": {
            "tags": []
          }
        },
        {
          "output_type": "display_data",
          "data": {
            "text/html": [
              ""
            ],
            "text/plain": [
              "<IPython.core.display.HTML object>"
            ]
          },
          "metadata": {
            "tags": []
          }
        },
        {
          "output_type": "display_data",
          "data": {
            "text/html": [
              ""
            ],
            "text/plain": [
              "<IPython.core.display.HTML object>"
            ]
          },
          "metadata": {
            "tags": []
          }
        },
        {
          "output_type": "display_data",
          "data": {
            "text/html": [
              ""
            ],
            "text/plain": [
              "<IPython.core.display.HTML object>"
            ]
          },
          "metadata": {
            "tags": []
          }
        },
        {
          "output_type": "display_data",
          "data": {
            "text/html": [
              ""
            ],
            "text/plain": [
              "<IPython.core.display.HTML object>"
            ]
          },
          "metadata": {
            "tags": []
          }
        },
        {
          "output_type": "display_data",
          "data": {
            "text/html": [
              ""
            ],
            "text/plain": [
              "<IPython.core.display.HTML object>"
            ]
          },
          "metadata": {
            "tags": []
          }
        },
        {
          "output_type": "display_data",
          "data": {
            "text/html": [
              ""
            ],
            "text/plain": [
              "<IPython.core.display.HTML object>"
            ]
          },
          "metadata": {
            "tags": []
          }
        },
        {
          "output_type": "display_data",
          "data": {
            "text/html": [
              ""
            ],
            "text/plain": [
              "<IPython.core.display.HTML object>"
            ]
          },
          "metadata": {
            "tags": []
          }
        },
        {
          "output_type": "display_data",
          "data": {
            "text/html": [
              ""
            ],
            "text/plain": [
              "<IPython.core.display.HTML object>"
            ]
          },
          "metadata": {
            "tags": []
          }
        },
        {
          "output_type": "stream",
          "text": [
            "dress classified as Accessories with prob. of 0.87\n"
          ],
          "name": "stdout"
        },
        {
          "output_type": "display_data",
          "data": {
            "image/png": "[encoded data removed]",
            "text/plain": [
              "<PIL.Image.Image image mode=RGB size=80x128 at 0x7FD6F2CF3B38>"
            ]
          },
          "metadata": {
            "tags": []
          }
        },
        {
          "output_type": "display_data",
          "data": {
            "text/html": [
              ""
            ],
            "text/plain": [
              "<IPython.core.display.HTML object>"
            ]
          },
          "metadata": {
            "tags": []
          }
        },
        {
          "output_type": "display_data",
          "data": {
            "text/html": [
              ""
            ],
            "text/plain": [
              "<IPython.core.display.HTML object>"
            ]
          },
          "metadata": {
            "tags": []
          }
        },
        {
          "output_type": "display_data",
          "data": {
            "text/html": [
              ""
            ],
            "text/plain": [
              "<IPython.core.display.HTML object>"
            ]
          },
          "metadata": {
            "tags": []
          }
        },
        {
          "output_type": "display_data",
          "data": {
            "text/html": [
              ""
            ],
            "text/plain": [
              "<IPython.core.display.HTML object>"
            ]
          },
          "metadata": {
            "tags": []
          }
        },
        {
          "output_type": "display_data",
          "data": {
            "text/html": [
              ""
            ],
            "text/plain": [
              "<IPython.core.display.HTML object>"
            ]
          },
          "metadata": {
            "tags": []
          }
        },
        {
          "output_type": "display_data",
          "data": {
            "text/html": [
              ""
            ],
            "text/plain": [
              "<IPython.core.display.HTML object>"
            ]
          },
          "metadata": {
            "tags": []
          }
        },
        {
          "output_type": "display_data",
          "data": {
            "text/html": [
              ""
            ],
            "text/plain": [
              "<IPython.core.display.HTML object>"
            ]
          },
          "metadata": {
            "tags": []
          }
        },
        {
          "output_type": "display_data",
          "data": {
            "text/html": [
              ""
            ],
            "text/plain": [
              "<IPython.core.display.HTML object>"
            ]
          },
          "metadata": {
            "tags": []
          }
        },
        {
          "output_type": "display_data",
          "data": {
            "text/html": [
              ""
            ],
            "text/plain": [
              "<IPython.core.display.HTML object>"
            ]
          },
          "metadata": {
            "tags": []
          }
        },
        {
          "output_type": "display_data",
          "data": {
            "text/html": [
              ""
            ],
            "text/plain": [
              "<IPython.core.display.HTML object>"
            ]
          },
          "metadata": {
            "tags": []
          }
        },
        {
          "output_type": "display_data",
          "data": {
            "text/html": [
              ""
            ],
            "text/plain": [
              "<IPython.core.display.HTML object>"
            ]
          },
          "metadata": {
            "tags": []
          }
        },
        {
          "output_type": "display_data",
          "data": {
            "text/html": [
              ""
            ],
            "text/plain": [
              "<IPython.core.display.HTML object>"
            ]
          },
          "metadata": {
            "tags": []
          }
        },
        {
          "output_type": "display_data",
          "data": {
            "text/html": [
              ""
            ],
            "text/plain": [
              "<IPython.core.display.HTML object>"
            ]
          },
          "metadata": {
            "tags": []
          }
        },
        {
          "output_type": "display_data",
          "data": {
            "text/html": [
              ""
            ],
            "text/plain": [
              "<IPython.core.display.HTML object>"
            ]
          },
          "metadata": {
            "tags": []
          }
        },
        {
          "output_type": "display_data",
          "data": {
            "text/html": [
              ""
            ],
            "text/plain": [
              "<IPython.core.display.HTML object>"
            ]
          },
          "metadata": {
            "tags": []
          }
        },
        {
          "output_type": "display_data",
          "data": {
            "text/html": [
              ""
            ],
            "text/plain": [
              "<IPython.core.display.HTML object>"
            ]
          },
          "metadata": {
            "tags": []
          }
        },
        {
          "output_type": "display_data",
          "data": {
            "text/html": [
              ""
            ],
            "text/plain": [
              "<IPython.core.display.HTML object>"
            ]
          },
          "metadata": {
            "tags": []
          }
        },
        {
          "output_type": "display_data",
          "data": {
            "text/html": [
              ""
            ],
            "text/plain": [
              "<IPython.core.display.HTML object>"
            ]
          },
          "metadata": {
            "tags": []
          }
        },
        {
          "output_type": "display_data",
          "data": {
            "text/html": [
              ""
            ],
            "text/plain": [
              "<IPython.core.display.HTML object>"
            ]
          },
          "metadata": {
            "tags": []
          }
        },
        {
          "output_type": "display_data",
          "data": {
            "text/html": [
              ""
            ],
            "text/plain": [
              "<IPython.core.display.HTML object>"
            ]
          },
          "metadata": {
            "tags": []
          }
        },
        {
          "output_type": "display_data",
          "data": {
            "text/html": [
              ""
            ],
            "text/plain": [
              "<IPython.core.display.HTML object>"
            ]
          },
          "metadata": {
            "tags": []
          }
        },
        {
          "output_type": "display_data",
          "data": {
            "text/html": [
              ""
            ],
            "text/plain": [
              "<IPython.core.display.HTML object>"
            ]
          },
          "metadata": {
            "tags": []
          }
        },
        {
          "output_type": "display_data",
          "data": {
            "text/html": [
              ""
            ],
            "text/plain": [
              "<IPython.core.display.HTML object>"
            ]
          },
          "metadata": {
            "tags": []
          }
        },
        {
          "output_type": "display_data",
          "data": {
            "text/html": [
              ""
            ],
            "text/plain": [
              "<IPython.core.display.HTML object>"
            ]
          },
          "metadata": {
            "tags": []
          }
        },
        {
          "output_type": "display_data",
          "data": {
            "text/html": [
              ""
            ],
            "text/plain": [
              "<IPython.core.display.HTML object>"
            ]
          },
          "metadata": {
            "tags": []
          }
        },
        {
          "output_type": "display_data",
          "data": {
            "text/html": [
              ""
            ],
            "text/plain": [
              "<IPython.core.display.HTML object>"
            ]
          },
          "metadata": {
            "tags": []
          }
        },
        {
          "output_type": "display_data",
          "data": {
            "text/html": [
              ""
            ],
            "text/plain": [
              "<IPython.core.display.HTML object>"
            ]
          },
          "metadata": {
            "tags": []
          }
        },
        {
          "output_type": "display_data",
          "data": {
            "text/html": [
              ""
            ],
            "text/plain": [
              "<IPython.core.display.HTML object>"
            ]
          },
          "metadata": {
            "tags": []
          }
        },
        {
          "output_type": "display_data",
          "data": {
            "text/html": [
              ""
            ],
            "text/plain": [
              "<IPython.core.display.HTML object>"
            ]
          },
          "metadata": {
            "tags": []
          }
        },
        {
          "output_type": "display_data",
          "data": {
            "text/html": [
              ""
            ],
            "text/plain": [
              "<IPython.core.display.HTML object>"
            ]
          },
          "metadata": {
            "tags": []
          }
        },
        {
          "output_type": "display_data",
          "data": {
            "text/html": [
              ""
            ],
            "text/plain": [
              "<IPython.core.display.HTML object>"
            ]
          },
          "metadata": {
            "tags": []
          }
        },
        {
          "output_type": "display_data",
          "data": {
            "text/html": [
              ""
            ],
            "text/plain": [
              "<IPython.core.display.HTML object>"
            ]
          },
          "metadata": {
            "tags": []
          }
        },
        {
          "output_type": "display_data",
          "data": {
            "text/html": [
              ""
            ],
            "text/plain": [
              "<IPython.core.display.HTML object>"
            ]
          },
          "metadata": {
            "tags": []
          }
        },
        {
          "output_type": "display_data",
          "data": {
            "text/html": [
              ""
            ],
            "text/plain": [
              "<IPython.core.display.HTML object>"
            ]
          },
          "metadata": {
            "tags": []
          }
        },
        {
          "output_type": "display_data",
          "data": {
            "text/html": [
              ""
            ],
            "text/plain": [
              "<IPython.core.display.HTML object>"
            ]
          },
          "metadata": {
            "tags": []
          }
        },
        {
          "output_type": "display_data",
          "data": {
            "text/html": [
              ""
            ],
            "text/plain": [
              "<IPython.core.display.HTML object>"
            ]
          },
          "metadata": {
            "tags": []
          }
        },
        {
          "output_type": "display_data",
          "data": {
            "text/html": [
              ""
            ],
            "text/plain": [
              "<IPython.core.display.HTML object>"
            ]
          },
          "metadata": {
            "tags": []
          }
        },
        {
          "output_type": "display_data",
          "data": {
            "text/html": [
              ""
            ],
            "text/plain": [
              "<IPython.core.display.HTML object>"
            ]
          },
          "metadata": {
            "tags": []
          }
        },
        {
          "output_type": "display_data",
          "data": {
            "text/html": [
              ""
            ],
            "text/plain": [
              "<IPython.core.display.HTML object>"
            ]
          },
          "metadata": {
            "tags": []
          }
        },
        {
          "output_type": "display_data",
          "data": {
            "text/html": [
              ""
            ],
            "text/plain": [
              "<IPython.core.display.HTML object>"
            ]
          },
          "metadata": {
            "tags": []
          }
        },
        {
          "output_type": "display_data",
          "data": {
            "text/html": [
              ""
            ],
            "text/plain": [
              "<IPython.core.display.HTML object>"
            ]
          },
          "metadata": {
            "tags": []
          }
        },
        {
          "output_type": "display_data",
          "data": {
            "text/html": [
              ""
            ],
            "text/plain": [
              "<IPython.core.display.HTML object>"
            ]
          },
          "metadata": {
            "tags": []
          }
        },
        {
          "output_type": "display_data",
          "data": {
            "text/html": [
              ""
            ],
            "text/plain": [
              "<IPython.core.display.HTML object>"
            ]
          },
          "metadata": {
            "tags": []
          }
        },
        {
          "output_type": "display_data",
          "data": {
            "text/html": [
              ""
            ],
            "text/plain": [
              "<IPython.core.display.HTML object>"
            ]
          },
          "metadata": {
            "tags": []
          }
        },
        {
          "output_type": "display_data",
          "data": {
            "text/html": [
              ""
            ],
            "text/plain": [
              "<IPython.core.display.HTML object>"
            ]
          },
          "metadata": {
            "tags": []
          }
        },
        {
          "output_type": "display_data",
          "data": {
            "text/html": [
              ""
            ],
            "text/plain": [
              "<IPython.core.display.HTML object>"
            ]
          },
          "metadata": {
            "tags": []
          }
        },
        {
          "output_type": "display_data",
          "data": {
            "text/html": [
              ""
            ],
            "text/plain": [
              "<IPython.core.display.HTML object>"
            ]
          },
          "metadata": {
            "tags": []
          }
        },
        {
          "output_type": "display_data",
          "data": {
            "text/html": [
              ""
            ],
            "text/plain": [
              "<IPython.core.display.HTML object>"
            ]
          },
          "metadata": {
            "tags": []
          }
        },
        {
          "output_type": "display_data",
          "data": {
            "text/html": [
              ""
            ],
            "text/plain": [
              "<IPython.core.display.HTML object>"
            ]
          },
          "metadata": {
            "tags": []
          }
        },
        {
          "output_type": "display_data",
          "data": {
            "text/html": [
              ""
            ],
            "text/plain": [
              "<IPython.core.display.HTML object>"
            ]
          },
          "metadata": {
            "tags": []
          }
        },
        {
          "output_type": "display_data",
          "data": {
            "text/html": [
              ""
            ],
            "text/plain": [
              "<IPython.core.display.HTML object>"
            ]
          },
          "metadata": {
            "tags": []
          }
        },
        {
          "output_type": "display_data",
          "data": {
            "text/html": [
              ""
            ],
            "text/plain": [
              "<IPython.core.display.HTML object>"
            ]
          },
          "metadata": {
            "tags": []
          }
        },
        {
          "output_type": "display_data",
          "data": {
            "text/html": [
              ""
            ],
            "text/plain": [
              "<IPython.core.display.HTML object>"
            ]
          },
          "metadata": {
            "tags": []
          }
        },
        {
          "output_type": "display_data",
          "data": {
            "text/html": [
              ""
            ],
            "text/plain": [
              "<IPython.core.display.HTML object>"
            ]
          },
          "metadata": {
            "tags": []
          }
        },
        {
          "output_type": "display_data",
          "data": {
            "text/html": [
              ""
            ],
            "text/plain": [
              "<IPython.core.display.HTML object>"
            ]
          },
          "metadata": {
            "tags": []
          }
        },
        {
          "output_type": "display_data",
          "data": {
            "text/html": [
              ""
            ],
            "text/plain": [
              "<IPython.core.display.HTML object>"
            ]
          },
          "metadata": {
            "tags": []
          }
        },
        {
          "output_type": "display_data",
          "data": {
            "text/html": [
              ""
            ],
            "text/plain": [
              "<IPython.core.display.HTML object>"
            ]
          },
          "metadata": {
            "tags": []
          }
        },
        {
          "output_type": "display_data",
          "data": {
            "text/html": [
              ""
            ],
            "text/plain": [
              "<IPython.core.display.HTML object>"
            ]
          },
          "metadata": {
            "tags": []
          }
        },
        {
          "output_type": "display_data",
          "data": {
            "text/html": [
              ""
            ],
            "text/plain": [
              "<IPython.core.display.HTML object>"
            ]
          },
          "metadata": {
            "tags": []
          }
        },
        {
          "output_type": "display_data",
          "data": {
            "text/html": [
              ""
            ],
            "text/plain": [
              "<IPython.core.display.HTML object>"
            ]
          },
          "metadata": {
            "tags": []
          }
        },
        {
          "output_type": "display_data",
          "data": {
            "text/html": [
              ""
            ],
            "text/plain": [
              "<IPython.core.display.HTML object>"
            ]
          },
          "metadata": {
            "tags": []
          }
        },
        {
          "output_type": "display_data",
          "data": {
            "text/html": [
              ""
            ],
            "text/plain": [
              "<IPython.core.display.HTML object>"
            ]
          },
          "metadata": {
            "tags": []
          }
        },
        {
          "output_type": "display_data",
          "data": {
            "text/html": [
              ""
            ],
            "text/plain": [
              "<IPython.core.display.HTML object>"
            ]
          },
          "metadata": {
            "tags": []
          }
        },
        {
          "output_type": "display_data",
          "data": {
            "text/html": [
              ""
            ],
            "text/plain": [
              "<IPython.core.display.HTML object>"
            ]
          },
          "metadata": {
            "tags": []
          }
        },
        {
          "output_type": "display_data",
          "data": {
            "text/html": [
              ""
            ],
            "text/plain": [
              "<IPython.core.display.HTML object>"
            ]
          },
          "metadata": {
            "tags": []
          }
        },
        {
          "output_type": "display_data",
          "data": {
            "text/html": [
              ""
            ],
            "text/plain": [
              "<IPython.core.display.HTML object>"
            ]
          },
          "metadata": {
            "tags": []
          }
        },
        {
          "output_type": "display_data",
          "data": {
            "text/html": [
              ""
            ],
            "text/plain": [
              "<IPython.core.display.HTML object>"
            ]
          },
          "metadata": {
            "tags": []
          }
        },
        {
          "output_type": "display_data",
          "data": {
            "text/html": [
              ""
            ],
            "text/plain": [
              "<IPython.core.display.HTML object>"
            ]
          },
          "metadata": {
            "tags": []
          }
        },
        {
          "output_type": "display_data",
          "data": {
            "text/html": [
              ""
            ],
            "text/plain": [
              "<IPython.core.display.HTML object>"
            ]
          },
          "metadata": {
            "tags": []
          }
        },
        {
          "output_type": "display_data",
          "data": {
            "text/html": [
              ""
            ],
            "text/plain": [
              "<IPython.core.display.HTML object>"
            ]
          },
          "metadata": {
            "tags": []
          }
        },
        {
          "output_type": "display_data",
          "data": {
            "text/html": [
              ""
            ],
            "text/plain": [
              "<IPython.core.display.HTML object>"
            ]
          },
          "metadata": {
            "tags": []
          }
        },
        {
          "output_type": "display_data",
          "data": {
            "text/html": [
              ""
            ],
            "text/plain": [
              "<IPython.core.display.HTML object>"
            ]
          },
          "metadata": {
            "tags": []
          }
        },
        {
          "output_type": "display_data",
          "data": {
            "text/html": [
              ""
            ],
            "text/plain": [
              "<IPython.core.display.HTML object>"
            ]
          },
          "metadata": {
            "tags": []
          }
        },
        {
          "output_type": "display_data",
          "data": {
            "text/html": [
              ""
            ],
            "text/plain": [
              "<IPython.core.display.HTML object>"
            ]
          },
          "metadata": {
            "tags": []
          }
        },
        {
          "output_type": "display_data",
          "data": {
            "text/html": [
              ""
            ],
            "text/plain": [
              "<IPython.core.display.HTML object>"
            ]
          },
          "metadata": {
            "tags": []
          }
        },
        {
          "output_type": "stream",
          "text": [
            "dress classified as Accessories with prob. of 0.52\n"
          ],
          "name": "stdout"
        },
        {
          "output_type": "display_data",
          "data": {
            "image/png": "[encoded data removed]",
            "text/plain": [
              "<PIL.Image.Image image mode=RGB size=85x128 at 0x7FD7D85FB550>"
            ]
          },
          "metadata": {
            "tags": []
          }
        },
        {
          "output_type": "display_data",
          "data": {
            "text/html": [
              ""
            ],
            "text/plain": [
              "<IPython.core.display.HTML object>"
            ]
          },
          "metadata": {
            "tags": []
          }
        },
        {
          "output_type": "display_data",
          "data": {
            "text/html": [
              ""
            ],
            "text/plain": [
              "<IPython.core.display.HTML object>"
            ]
          },
          "metadata": {
            "tags": []
          }
        },
        {
          "output_type": "display_data",
          "data": {
            "text/html": [
              ""
            ],
            "text/plain": [
              "<IPython.core.display.HTML object>"
            ]
          },
          "metadata": {
            "tags": []
          }
        },
        {
          "output_type": "display_data",
          "data": {
            "text/html": [
              ""
            ],
            "text/plain": [
              "<IPython.core.display.HTML object>"
            ]
          },
          "metadata": {
            "tags": []
          }
        },
        {
          "output_type": "display_data",
          "data": {
            "text/html": [
              ""
            ],
            "text/plain": [
              "<IPython.core.display.HTML object>"
            ]
          },
          "metadata": {
            "tags": []
          }
        },
        {
          "output_type": "display_data",
          "data": {
            "text/html": [
              ""
            ],
            "text/plain": [
              "<IPython.core.display.HTML object>"
            ]
          },
          "metadata": {
            "tags": []
          }
        },
        {
          "output_type": "display_data",
          "data": {
            "text/html": [
              ""
            ],
            "text/plain": [
              "<IPython.core.display.HTML object>"
            ]
          },
          "metadata": {
            "tags": []
          }
        },
        {
          "output_type": "display_data",
          "data": {
            "text/html": [
              ""
            ],
            "text/plain": [
              "<IPython.core.display.HTML object>"
            ]
          },
          "metadata": {
            "tags": []
          }
        },
        {
          "output_type": "display_data",
          "data": {
            "text/html": [
              ""
            ],
            "text/plain": [
              "<IPython.core.display.HTML object>"
            ]
          },
          "metadata": {
            "tags": []
          }
        },
        {
          "output_type": "display_data",
          "data": {
            "text/html": [
              ""
            ],
            "text/plain": [
              "<IPython.core.display.HTML object>"
            ]
          },
          "metadata": {
            "tags": []
          }
        },
        {
          "output_type": "display_data",
          "data": {
            "text/html": [
              ""
            ],
            "text/plain": [
              "<IPython.core.display.HTML object>"
            ]
          },
          "metadata": {
            "tags": []
          }
        },
        {
          "output_type": "display_data",
          "data": {
            "text/html": [
              ""
            ],
            "text/plain": [
              "<IPython.core.display.HTML object>"
            ]
          },
          "metadata": {
            "tags": []
          }
        },
        {
          "output_type": "display_data",
          "data": {
            "text/html": [
              ""
            ],
            "text/plain": [
              "<IPython.core.display.HTML object>"
            ]
          },
          "metadata": {
            "tags": []
          }
        },
        {
          "output_type": "display_data",
          "data": {
            "text/html": [
              ""
            ],
            "text/plain": [
              "<IPython.core.display.HTML object>"
            ]
          },
          "metadata": {
            "tags": []
          }
        },
        {
          "output_type": "display_data",
          "data": {
            "text/html": [
              ""
            ],
            "text/plain": [
              "<IPython.core.display.HTML object>"
            ]
          },
          "metadata": {
            "tags": []
          }
        },
        {
          "output_type": "display_data",
          "data": {
            "text/html": [
              ""
            ],
            "text/plain": [
              "<IPython.core.display.HTML object>"
            ]
          },
          "metadata": {
            "tags": []
          }
        },
        {
          "output_type": "display_data",
          "data": {
            "text/html": [
              ""
            ],
            "text/plain": [
              "<IPython.core.display.HTML object>"
            ]
          },
          "metadata": {
            "tags": []
          }
        },
        {
          "output_type": "display_data",
          "data": {
            "text/html": [
              ""
            ],
            "text/plain": [
              "<IPython.core.display.HTML object>"
            ]
          },
          "metadata": {
            "tags": []
          }
        },
        {
          "output_type": "display_data",
          "data": {
            "text/html": [
              ""
            ],
            "text/plain": [
              "<IPython.core.display.HTML object>"
            ]
          },
          "metadata": {
            "tags": []
          }
        },
        {
          "output_type": "display_data",
          "data": {
            "text/html": [
              ""
            ],
            "text/plain": [
              "<IPython.core.display.HTML object>"
            ]
          },
          "metadata": {
            "tags": []
          }
        },
        {
          "output_type": "display_data",
          "data": {
            "text/html": [
              ""
            ],
            "text/plain": [
              "<IPython.core.display.HTML object>"
            ]
          },
          "metadata": {
            "tags": []
          }
        },
        {
          "output_type": "display_data",
          "data": {
            "text/html": [
              ""
            ],
            "text/plain": [
              "<IPython.core.display.HTML object>"
            ]
          },
          "metadata": {
            "tags": []
          }
        },
        {
          "output_type": "display_data",
          "data": {
            "text/html": [
              ""
            ],
            "text/plain": [
              "<IPython.core.display.HTML object>"
            ]
          },
          "metadata": {
            "tags": []
          }
        },
        {
          "output_type": "display_data",
          "data": {
            "text/html": [
              ""
            ],
            "text/plain": [
              "<IPython.core.display.HTML object>"
            ]
          },
          "metadata": {
            "tags": []
          }
        },
        {
          "output_type": "display_data",
          "data": {
            "text/html": [
              ""
            ],
            "text/plain": [
              "<IPython.core.display.HTML object>"
            ]
          },
          "metadata": {
            "tags": []
          }
        },
        {
          "output_type": "display_data",
          "data": {
            "text/html": [
              ""
            ],
            "text/plain": [
              "<IPython.core.display.HTML object>"
            ]
          },
          "metadata": {
            "tags": []
          }
        },
        {
          "output_type": "display_data",
          "data": {
            "text/html": [
              ""
            ],
            "text/plain": [
              "<IPython.core.display.HTML object>"
            ]
          },
          "metadata": {
            "tags": []
          }
        },
        {
          "output_type": "display_data",
          "data": {
            "text/html": [
              ""
            ],
            "text/plain": [
              "<IPython.core.display.HTML object>"
            ]
          },
          "metadata": {
            "tags": []
          }
        },
        {
          "output_type": "display_data",
          "data": {
            "text/html": [
              ""
            ],
            "text/plain": [
              "<IPython.core.display.HTML object>"
            ]
          },
          "metadata": {
            "tags": []
          }
        },
        {
          "output_type": "display_data",
          "data": {
            "text/html": [
              ""
            ],
            "text/plain": [
              "<IPython.core.display.HTML object>"
            ]
          },
          "metadata": {
            "tags": []
          }
        },
        {
          "output_type": "display_data",
          "data": {
            "text/html": [
              ""
            ],
            "text/plain": [
              "<IPython.core.display.HTML object>"
            ]
          },
          "metadata": {
            "tags": []
          }
        },
        {
          "output_type": "display_data",
          "data": {
            "text/html": [
              ""
            ],
            "text/plain": [
              "<IPython.core.display.HTML object>"
            ]
          },
          "metadata": {
            "tags": []
          }
        },
        {
          "output_type": "display_data",
          "data": {
            "text/html": [
              ""
            ],
            "text/plain": [
              "<IPython.core.display.HTML object>"
            ]
          },
          "metadata": {
            "tags": []
          }
        },
        {
          "output_type": "display_data",
          "data": {
            "text/html": [
              ""
            ],
            "text/plain": [
              "<IPython.core.display.HTML object>"
            ]
          },
          "metadata": {
            "tags": []
          }
        },
        {
          "output_type": "display_data",
          "data": {
            "text/html": [
              ""
            ],
            "text/plain": [
              "<IPython.core.display.HTML object>"
            ]
          },
          "metadata": {
            "tags": []
          }
        },
        {
          "output_type": "display_data",
          "data": {
            "text/html": [
              ""
            ],
            "text/plain": [
              "<IPython.core.display.HTML object>"
            ]
          },
          "metadata": {
            "tags": []
          }
        },
        {
          "output_type": "display_data",
          "data": {
            "text/html": [
              ""
            ],
            "text/plain": [
              "<IPython.core.display.HTML object>"
            ]
          },
          "metadata": {
            "tags": []
          }
        },
        {
          "output_type": "display_data",
          "data": {
            "text/html": [
              ""
            ],
            "text/plain": [
              "<IPython.core.display.HTML object>"
            ]
          },
          "metadata": {
            "tags": []
          }
        },
        {
          "output_type": "display_data",
          "data": {
            "text/html": [
              ""
            ],
            "text/plain": [
              "<IPython.core.display.HTML object>"
            ]
          },
          "metadata": {
            "tags": []
          }
        },
        {
          "output_type": "display_data",
          "data": {
            "text/html": [
              ""
            ],
            "text/plain": [
              "<IPython.core.display.HTML object>"
            ]
          },
          "metadata": {
            "tags": []
          }
        },
        {
          "output_type": "display_data",
          "data": {
            "text/html": [
              ""
            ],
            "text/plain": [
              "<IPython.core.display.HTML object>"
            ]
          },
          "metadata": {
            "tags": []
          }
        },
        {
          "output_type": "display_data",
          "data": {
            "text/html": [
              ""
            ],
            "text/plain": [
              "<IPython.core.display.HTML object>"
            ]
          },
          "metadata": {
            "tags": []
          }
        },
        {
          "output_type": "display_data",
          "data": {
            "text/html": [
              ""
            ],
            "text/plain": [
              "<IPython.core.display.HTML object>"
            ]
          },
          "metadata": {
            "tags": []
          }
        },
        {
          "output_type": "display_data",
          "data": {
            "text/html": [
              ""
            ],
            "text/plain": [
              "<IPython.core.display.HTML object>"
            ]
          },
          "metadata": {
            "tags": []
          }
        },
        {
          "output_type": "display_data",
          "data": {
            "text/html": [
              ""
            ],
            "text/plain": [
              "<IPython.core.display.HTML object>"
            ]
          },
          "metadata": {
            "tags": []
          }
        },
        {
          "output_type": "display_data",
          "data": {
            "text/html": [
              ""
            ],
            "text/plain": [
              "<IPython.core.display.HTML object>"
            ]
          },
          "metadata": {
            "tags": []
          }
        },
        {
          "output_type": "display_data",
          "data": {
            "text/html": [
              ""
            ],
            "text/plain": [
              "<IPython.core.display.HTML object>"
            ]
          },
          "metadata": {
            "tags": []
          }
        },
        {
          "output_type": "display_data",
          "data": {
            "text/html": [
              ""
            ],
            "text/plain": [
              "<IPython.core.display.HTML object>"
            ]
          },
          "metadata": {
            "tags": []
          }
        },
        {
          "output_type": "display_data",
          "data": {
            "text/html": [
              ""
            ],
            "text/plain": [
              "<IPython.core.display.HTML object>"
            ]
          },
          "metadata": {
            "tags": []
          }
        },
        {
          "output_type": "display_data",
          "data": {
            "text/html": [
              ""
            ],
            "text/plain": [
              "<IPython.core.display.HTML object>"
            ]
          },
          "metadata": {
            "tags": []
          }
        },
        {
          "output_type": "display_data",
          "data": {
            "text/html": [
              ""
            ],
            "text/plain": [
              "<IPython.core.display.HTML object>"
            ]
          },
          "metadata": {
            "tags": []
          }
        },
        {
          "output_type": "display_data",
          "data": {
            "text/html": [
              ""
            ],
            "text/plain": [
              "<IPython.core.display.HTML object>"
            ]
          },
          "metadata": {
            "tags": []
          }
        },
        {
          "output_type": "display_data",
          "data": {
            "text/html": [
              ""
            ],
            "text/plain": [
              "<IPython.core.display.HTML object>"
            ]
          },
          "metadata": {
            "tags": []
          }
        },
        {
          "output_type": "display_data",
          "data": {
            "text/html": [
              ""
            ],
            "text/plain": [
              "<IPython.core.display.HTML object>"
            ]
          },
          "metadata": {
            "tags": []
          }
        },
        {
          "output_type": "stream",
          "text": [
            " \n",
            "Missclassified earings:\n",
            " \n"
          ],
          "name": "stdout"
        },
        {
          "output_type": "display_data",
          "data": {
            "text/html": [
              ""
            ],
            "text/plain": [
              "<IPython.core.display.HTML object>"
            ]
          },
          "metadata": {
            "tags": []
          }
        },
        {
          "output_type": "display_data",
          "data": {
            "text/html": [
              ""
            ],
            "text/plain": [
              "<IPython.core.display.HTML object>"
            ]
          },
          "metadata": {
            "tags": []
          }
        },
        {
          "output_type": "display_data",
          "data": {
            "text/html": [
              ""
            ],
            "text/plain": [
              "<IPython.core.display.HTML object>"
            ]
          },
          "metadata": {
            "tags": []
          }
        },
        {
          "output_type": "display_data",
          "data": {
            "text/html": [
              ""
            ],
            "text/plain": [
              "<IPython.core.display.HTML object>"
            ]
          },
          "metadata": {
            "tags": []
          }
        },
        {
          "output_type": "display_data",
          "data": {
            "text/html": [
              ""
            ],
            "text/plain": [
              "<IPython.core.display.HTML object>"
            ]
          },
          "metadata": {
            "tags": []
          }
        },
        {
          "output_type": "stream",
          "text": [
            "earings classified as Apparel with prob. of 1.0\n"
          ],
          "name": "stdout"
        },
        {
          "output_type": "display_data",
          "data": {
            "image/png": "[encoded data removed]",
            "text/plain": [
              "<PIL.Image.Image image mode=RGB size=85x128 at 0x7FD7D84A6438>"
            ]
          },
          "metadata": {
            "tags": []
          }
        },
        {
          "output_type": "display_data",
          "data": {
            "text/html": [
              ""
            ],
            "text/plain": [
              "<IPython.core.display.HTML object>"
            ]
          },
          "metadata": {
            "tags": []
          }
        },
        {
          "output_type": "display_data",
          "data": {
            "text/html": [
              ""
            ],
            "text/plain": [
              "<IPython.core.display.HTML object>"
            ]
          },
          "metadata": {
            "tags": []
          }
        },
        {
          "output_type": "display_data",
          "data": {
            "text/html": [
              ""
            ],
            "text/plain": [
              "<IPython.core.display.HTML object>"
            ]
          },
          "metadata": {
            "tags": []
          }
        },
        {
          "output_type": "display_data",
          "data": {
            "text/html": [
              ""
            ],
            "text/plain": [
              "<IPython.core.display.HTML object>"
            ]
          },
          "metadata": {
            "tags": []
          }
        },
        {
          "output_type": "stream",
          "text": [
            "earings classified as Apparel with prob. of 1.0\n"
          ],
          "name": "stdout"
        },
        {
          "output_type": "display_data",
          "data": {
            "image/png": "[encoded data removed]",
            "text/plain": [
              "<PIL.Image.Image image mode=RGB size=85x128 at 0x7FD816466630>"
            ]
          },
          "metadata": {
            "tags": []
          }
        },
        {
          "output_type": "display_data",
          "data": {
            "text/html": [
              ""
            ],
            "text/plain": [
              "<IPython.core.display.HTML object>"
            ]
          },
          "metadata": {
            "tags": []
          }
        },
        {
          "output_type": "display_data",
          "data": {
            "text/html": [
              ""
            ],
            "text/plain": [
              "<IPython.core.display.HTML object>"
            ]
          },
          "metadata": {
            "tags": []
          }
        },
        {
          "output_type": "display_data",
          "data": {
            "text/html": [
              ""
            ],
            "text/plain": [
              "<IPython.core.display.HTML object>"
            ]
          },
          "metadata": {
            "tags": []
          }
        },
        {
          "output_type": "display_data",
          "data": {
            "text/html": [
              ""
            ],
            "text/plain": [
              "<IPython.core.display.HTML object>"
            ]
          },
          "metadata": {
            "tags": []
          }
        },
        {
          "output_type": "display_data",
          "data": {
            "text/html": [
              ""
            ],
            "text/plain": [
              "<IPython.core.display.HTML object>"
            ]
          },
          "metadata": {
            "tags": []
          }
        },
        {
          "output_type": "display_data",
          "data": {
            "text/html": [
              ""
            ],
            "text/plain": [
              "<IPython.core.display.HTML object>"
            ]
          },
          "metadata": {
            "tags": []
          }
        },
        {
          "output_type": "stream",
          "text": [
            "earings classified as Personal Care with prob. of 0.9\n"
          ],
          "name": "stdout"
        },
        {
          "output_type": "display_data",
          "data": {
            "image/png": "[encoded data removed]",
            "text/plain": [
              "<PIL.Image.Image image mode=RGB size=91x128 at 0x7FD7D860C828>"
            ]
          },
          "metadata": {
            "tags": []
          }
        },
        {
          "output_type": "display_data",
          "data": {
            "text/html": [
              ""
            ],
            "text/plain": [
              "<IPython.core.display.HTML object>"
            ]
          },
          "metadata": {
            "tags": []
          }
        },
        {
          "output_type": "display_data",
          "data": {
            "text/html": [
              ""
            ],
            "text/plain": [
              "<IPython.core.display.HTML object>"
            ]
          },
          "metadata": {
            "tags": []
          }
        },
        {
          "output_type": "display_data",
          "data": {
            "text/html": [
              ""
            ],
            "text/plain": [
              "<IPython.core.display.HTML object>"
            ]
          },
          "metadata": {
            "tags": []
          }
        },
        {
          "output_type": "display_data",
          "data": {
            "text/html": [
              ""
            ],
            "text/plain": [
              "<IPython.core.display.HTML object>"
            ]
          },
          "metadata": {
            "tags": []
          }
        },
        {
          "output_type": "display_data",
          "data": {
            "text/html": [
              ""
            ],
            "text/plain": [
              "<IPython.core.display.HTML object>"
            ]
          },
          "metadata": {
            "tags": []
          }
        },
        {
          "output_type": "display_data",
          "data": {
            "text/html": [
              ""
            ],
            "text/plain": [
              "<IPython.core.display.HTML object>"
            ]
          },
          "metadata": {
            "tags": []
          }
        },
        {
          "output_type": "display_data",
          "data": {
            "text/html": [
              ""
            ],
            "text/plain": [
              "<IPython.core.display.HTML object>"
            ]
          },
          "metadata": {
            "tags": []
          }
        },
        {
          "output_type": "display_data",
          "data": {
            "text/html": [
              ""
            ],
            "text/plain": [
              "<IPython.core.display.HTML object>"
            ]
          },
          "metadata": {
            "tags": []
          }
        },
        {
          "output_type": "display_data",
          "data": {
            "text/html": [
              ""
            ],
            "text/plain": [
              "<IPython.core.display.HTML object>"
            ]
          },
          "metadata": {
            "tags": []
          }
        },
        {
          "output_type": "display_data",
          "data": {
            "text/html": [
              ""
            ],
            "text/plain": [
              "<IPython.core.display.HTML object>"
            ]
          },
          "metadata": {
            "tags": []
          }
        },
        {
          "output_type": "display_data",
          "data": {
            "text/html": [
              ""
            ],
            "text/plain": [
              "<IPython.core.display.HTML object>"
            ]
          },
          "metadata": {
            "tags": []
          }
        },
        {
          "output_type": "display_data",
          "data": {
            "text/html": [
              ""
            ],
            "text/plain": [
              "<IPython.core.display.HTML object>"
            ]
          },
          "metadata": {
            "tags": []
          }
        },
        {
          "output_type": "display_data",
          "data": {
            "text/html": [
              ""
            ],
            "text/plain": [
              "<IPython.core.display.HTML object>"
            ]
          },
          "metadata": {
            "tags": []
          }
        },
        {
          "output_type": "display_data",
          "data": {
            "text/html": [
              ""
            ],
            "text/plain": [
              "<IPython.core.display.HTML object>"
            ]
          },
          "metadata": {
            "tags": []
          }
        },
        {
          "output_type": "display_data",
          "data": {
            "text/html": [
              ""
            ],
            "text/plain": [
              "<IPython.core.display.HTML object>"
            ]
          },
          "metadata": {
            "tags": []
          }
        },
        {
          "output_type": "display_data",
          "data": {
            "text/html": [
              ""
            ],
            "text/plain": [
              "<IPython.core.display.HTML object>"
            ]
          },
          "metadata": {
            "tags": []
          }
        },
        {
          "output_type": "display_data",
          "data": {
            "text/html": [
              ""
            ],
            "text/plain": [
              "<IPython.core.display.HTML object>"
            ]
          },
          "metadata": {
            "tags": []
          }
        },
        {
          "output_type": "display_data",
          "data": {
            "text/html": [
              ""
            ],
            "text/plain": [
              "<IPython.core.display.HTML object>"
            ]
          },
          "metadata": {
            "tags": []
          }
        },
        {
          "output_type": "display_data",
          "data": {
            "text/html": [
              ""
            ],
            "text/plain": [
              "<IPython.core.display.HTML object>"
            ]
          },
          "metadata": {
            "tags": []
          }
        },
        {
          "output_type": "display_data",
          "data": {
            "text/html": [
              ""
            ],
            "text/plain": [
              "<IPython.core.display.HTML object>"
            ]
          },
          "metadata": {
            "tags": []
          }
        },
        {
          "output_type": "display_data",
          "data": {
            "text/html": [
              ""
            ],
            "text/plain": [
              "<IPython.core.display.HTML object>"
            ]
          },
          "metadata": {
            "tags": []
          }
        },
        {
          "output_type": "display_data",
          "data": {
            "text/html": [
              ""
            ],
            "text/plain": [
              "<IPython.core.display.HTML object>"
            ]
          },
          "metadata": {
            "tags": []
          }
        },
        {
          "output_type": "display_data",
          "data": {
            "text/html": [
              ""
            ],
            "text/plain": [
              "<IPython.core.display.HTML object>"
            ]
          },
          "metadata": {
            "tags": []
          }
        },
        {
          "output_type": "display_data",
          "data": {
            "text/html": [
              ""
            ],
            "text/plain": [
              "<IPython.core.display.HTML object>"
            ]
          },
          "metadata": {
            "tags": []
          }
        },
        {
          "output_type": "display_data",
          "data": {
            "text/html": [
              ""
            ],
            "text/plain": [
              "<IPython.core.display.HTML object>"
            ]
          },
          "metadata": {
            "tags": []
          }
        },
        {
          "output_type": "display_data",
          "data": {
            "text/html": [
              ""
            ],
            "text/plain": [
              "<IPython.core.display.HTML object>"
            ]
          },
          "metadata": {
            "tags": []
          }
        },
        {
          "output_type": "display_data",
          "data": {
            "text/html": [
              ""
            ],
            "text/plain": [
              "<IPython.core.display.HTML object>"
            ]
          },
          "metadata": {
            "tags": []
          }
        },
        {
          "output_type": "display_data",
          "data": {
            "text/html": [
              ""
            ],
            "text/plain": [
              "<IPython.core.display.HTML object>"
            ]
          },
          "metadata": {
            "tags": []
          }
        },
        {
          "output_type": "display_data",
          "data": {
            "text/html": [
              ""
            ],
            "text/plain": [
              "<IPython.core.display.HTML object>"
            ]
          },
          "metadata": {
            "tags": []
          }
        },
        {
          "output_type": "display_data",
          "data": {
            "text/html": [
              ""
            ],
            "text/plain": [
              "<IPython.core.display.HTML object>"
            ]
          },
          "metadata": {
            "tags": []
          }
        },
        {
          "output_type": "display_data",
          "data": {
            "text/html": [
              ""
            ],
            "text/plain": [
              "<IPython.core.display.HTML object>"
            ]
          },
          "metadata": {
            "tags": []
          }
        },
        {
          "output_type": "display_data",
          "data": {
            "text/html": [
              ""
            ],
            "text/plain": [
              "<IPython.core.display.HTML object>"
            ]
          },
          "metadata": {
            "tags": []
          }
        },
        {
          "output_type": "display_data",
          "data": {
            "text/html": [
              ""
            ],
            "text/plain": [
              "<IPython.core.display.HTML object>"
            ]
          },
          "metadata": {
            "tags": []
          }
        },
        {
          "output_type": "display_data",
          "data": {
            "text/html": [
              ""
            ],
            "text/plain": [
              "<IPython.core.display.HTML object>"
            ]
          },
          "metadata": {
            "tags": []
          }
        },
        {
          "output_type": "display_data",
          "data": {
            "text/html": [
              ""
            ],
            "text/plain": [
              "<IPython.core.display.HTML object>"
            ]
          },
          "metadata": {
            "tags": []
          }
        },
        {
          "output_type": "display_data",
          "data": {
            "text/html": [
              ""
            ],
            "text/plain": [
              "<IPython.core.display.HTML object>"
            ]
          },
          "metadata": {
            "tags": []
          }
        },
        {
          "output_type": "display_data",
          "data": {
            "text/html": [
              ""
            ],
            "text/plain": [
              "<IPython.core.display.HTML object>"
            ]
          },
          "metadata": {
            "tags": []
          }
        },
        {
          "output_type": "display_data",
          "data": {
            "text/html": [
              ""
            ],
            "text/plain": [
              "<IPython.core.display.HTML object>"
            ]
          },
          "metadata": {
            "tags": []
          }
        },
        {
          "output_type": "display_data",
          "data": {
            "text/html": [
              ""
            ],
            "text/plain": [
              "<IPython.core.display.HTML object>"
            ]
          },
          "metadata": {
            "tags": []
          }
        },
        {
          "output_type": "display_data",
          "data": {
            "text/html": [
              ""
            ],
            "text/plain": [
              "<IPython.core.display.HTML object>"
            ]
          },
          "metadata": {
            "tags": []
          }
        },
        {
          "output_type": "display_data",
          "data": {
            "text/html": [
              ""
            ],
            "text/plain": [
              "<IPython.core.display.HTML object>"
            ]
          },
          "metadata": {
            "tags": []
          }
        },
        {
          "output_type": "display_data",
          "data": {
            "text/html": [
              ""
            ],
            "text/plain": [
              "<IPython.core.display.HTML object>"
            ]
          },
          "metadata": {
            "tags": []
          }
        },
        {
          "output_type": "display_data",
          "data": {
            "text/html": [
              ""
            ],
            "text/plain": [
              "<IPython.core.display.HTML object>"
            ]
          },
          "metadata": {
            "tags": []
          }
        },
        {
          "output_type": "display_data",
          "data": {
            "text/html": [
              ""
            ],
            "text/plain": [
              "<IPython.core.display.HTML object>"
            ]
          },
          "metadata": {
            "tags": []
          }
        },
        {
          "output_type": "display_data",
          "data": {
            "text/html": [
              ""
            ],
            "text/plain": [
              "<IPython.core.display.HTML object>"
            ]
          },
          "metadata": {
            "tags": []
          }
        },
        {
          "output_type": "display_data",
          "data": {
            "text/html": [
              ""
            ],
            "text/plain": [
              "<IPython.core.display.HTML object>"
            ]
          },
          "metadata": {
            "tags": []
          }
        },
        {
          "output_type": "display_data",
          "data": {
            "text/html": [
              ""
            ],
            "text/plain": [
              "<IPython.core.display.HTML object>"
            ]
          },
          "metadata": {
            "tags": []
          }
        },
        {
          "output_type": "display_data",
          "data": {
            "text/html": [
              ""
            ],
            "text/plain": [
              "<IPython.core.display.HTML object>"
            ]
          },
          "metadata": {
            "tags": []
          }
        },
        {
          "output_type": "display_data",
          "data": {
            "text/html": [
              ""
            ],
            "text/plain": [
              "<IPython.core.display.HTML object>"
            ]
          },
          "metadata": {
            "tags": []
          }
        },
        {
          "output_type": "display_data",
          "data": {
            "text/html": [
              ""
            ],
            "text/plain": [
              "<IPython.core.display.HTML object>"
            ]
          },
          "metadata": {
            "tags": []
          }
        },
        {
          "output_type": "display_data",
          "data": {
            "text/html": [
              ""
            ],
            "text/plain": [
              "<IPython.core.display.HTML object>"
            ]
          },
          "metadata": {
            "tags": []
          }
        },
        {
          "output_type": "display_data",
          "data": {
            "text/html": [
              ""
            ],
            "text/plain": [
              "<IPython.core.display.HTML object>"
            ]
          },
          "metadata": {
            "tags": []
          }
        },
        {
          "output_type": "display_data",
          "data": {
            "text/html": [
              ""
            ],
            "text/plain": [
              "<IPython.core.display.HTML object>"
            ]
          },
          "metadata": {
            "tags": []
          }
        },
        {
          "output_type": "display_data",
          "data": {
            "text/html": [
              ""
            ],
            "text/plain": [
              "<IPython.core.display.HTML object>"
            ]
          },
          "metadata": {
            "tags": []
          }
        },
        {
          "output_type": "display_data",
          "data": {
            "text/html": [
              ""
            ],
            "text/plain": [
              "<IPython.core.display.HTML object>"
            ]
          },
          "metadata": {
            "tags": []
          }
        },
        {
          "output_type": "display_data",
          "data": {
            "text/html": [
              ""
            ],
            "text/plain": [
              "<IPython.core.display.HTML object>"
            ]
          },
          "metadata": {
            "tags": []
          }
        },
        {
          "output_type": "display_data",
          "data": {
            "text/html": [
              ""
            ],
            "text/plain": [
              "<IPython.core.display.HTML object>"
            ]
          },
          "metadata": {
            "tags": []
          }
        },
        {
          "output_type": "display_data",
          "data": {
            "text/html": [
              ""
            ],
            "text/plain": [
              "<IPython.core.display.HTML object>"
            ]
          },
          "metadata": {
            "tags": []
          }
        },
        {
          "output_type": "display_data",
          "data": {
            "text/html": [
              ""
            ],
            "text/plain": [
              "<IPython.core.display.HTML object>"
            ]
          },
          "metadata": {
            "tags": []
          }
        },
        {
          "output_type": "display_data",
          "data": {
            "text/html": [
              ""
            ],
            "text/plain": [
              "<IPython.core.display.HTML object>"
            ]
          },
          "metadata": {
            "tags": []
          }
        },
        {
          "output_type": "display_data",
          "data": {
            "text/html": [
              ""
            ],
            "text/plain": [
              "<IPython.core.display.HTML object>"
            ]
          },
          "metadata": {
            "tags": []
          }
        },
        {
          "output_type": "display_data",
          "data": {
            "text/html": [
              ""
            ],
            "text/plain": [
              "<IPython.core.display.HTML object>"
            ]
          },
          "metadata": {
            "tags": []
          }
        },
        {
          "output_type": "display_data",
          "data": {
            "text/html": [
              ""
            ],
            "text/plain": [
              "<IPython.core.display.HTML object>"
            ]
          },
          "metadata": {
            "tags": []
          }
        },
        {
          "output_type": "display_data",
          "data": {
            "text/html": [
              ""
            ],
            "text/plain": [
              "<IPython.core.display.HTML object>"
            ]
          },
          "metadata": {
            "tags": []
          }
        },
        {
          "output_type": "display_data",
          "data": {
            "text/html": [
              ""
            ],
            "text/plain": [
              "<IPython.core.display.HTML object>"
            ]
          },
          "metadata": {
            "tags": []
          }
        },
        {
          "output_type": "display_data",
          "data": {
            "text/html": [
              ""
            ],
            "text/plain": [
              "<IPython.core.display.HTML object>"
            ]
          },
          "metadata": {
            "tags": []
          }
        },
        {
          "output_type": "display_data",
          "data": {
            "text/html": [
              ""
            ],
            "text/plain": [
              "<IPython.core.display.HTML object>"
            ]
          },
          "metadata": {
            "tags": []
          }
        },
        {
          "output_type": "display_data",
          "data": {
            "text/html": [
              ""
            ],
            "text/plain": [
              "<IPython.core.display.HTML object>"
            ]
          },
          "metadata": {
            "tags": []
          }
        },
        {
          "output_type": "display_data",
          "data": {
            "text/html": [
              ""
            ],
            "text/plain": [
              "<IPython.core.display.HTML object>"
            ]
          },
          "metadata": {
            "tags": []
          }
        },
        {
          "output_type": "display_data",
          "data": {
            "text/html": [
              ""
            ],
            "text/plain": [
              "<IPython.core.display.HTML object>"
            ]
          },
          "metadata": {
            "tags": []
          }
        },
        {
          "output_type": "display_data",
          "data": {
            "text/html": [
              ""
            ],
            "text/plain": [
              "<IPython.core.display.HTML object>"
            ]
          },
          "metadata": {
            "tags": []
          }
        },
        {
          "output_type": "display_data",
          "data": {
            "text/html": [
              ""
            ],
            "text/plain": [
              "<IPython.core.display.HTML object>"
            ]
          },
          "metadata": {
            "tags": []
          }
        },
        {
          "output_type": "display_data",
          "data": {
            "text/html": [
              ""
            ],
            "text/plain": [
              "<IPython.core.display.HTML object>"
            ]
          },
          "metadata": {
            "tags": []
          }
        },
        {
          "output_type": "display_data",
          "data": {
            "text/html": [
              ""
            ],
            "text/plain": [
              "<IPython.core.display.HTML object>"
            ]
          },
          "metadata": {
            "tags": []
          }
        },
        {
          "output_type": "display_data",
          "data": {
            "text/html": [
              ""
            ],
            "text/plain": [
              "<IPython.core.display.HTML object>"
            ]
          },
          "metadata": {
            "tags": []
          }
        },
        {
          "output_type": "display_data",
          "data": {
            "text/html": [
              ""
            ],
            "text/plain": [
              "<IPython.core.display.HTML object>"
            ]
          },
          "metadata": {
            "tags": []
          }
        },
        {
          "output_type": "display_data",
          "data": {
            "text/html": [
              ""
            ],
            "text/plain": [
              "<IPython.core.display.HTML object>"
            ]
          },
          "metadata": {
            "tags": []
          }
        },
        {
          "output_type": "display_data",
          "data": {
            "text/html": [
              ""
            ],
            "text/plain": [
              "<IPython.core.display.HTML object>"
            ]
          },
          "metadata": {
            "tags": []
          }
        },
        {
          "output_type": "display_data",
          "data": {
            "text/html": [
              ""
            ],
            "text/plain": [
              "<IPython.core.display.HTML object>"
            ]
          },
          "metadata": {
            "tags": []
          }
        },
        {
          "output_type": "display_data",
          "data": {
            "text/html": [
              ""
            ],
            "text/plain": [
              "<IPython.core.display.HTML object>"
            ]
          },
          "metadata": {
            "tags": []
          }
        },
        {
          "output_type": "display_data",
          "data": {
            "text/html": [
              ""
            ],
            "text/plain": [
              "<IPython.core.display.HTML object>"
            ]
          },
          "metadata": {
            "tags": []
          }
        },
        {
          "output_type": "display_data",
          "data": {
            "text/html": [
              ""
            ],
            "text/plain": [
              "<IPython.core.display.HTML object>"
            ]
          },
          "metadata": {
            "tags": []
          }
        },
        {
          "output_type": "display_data",
          "data": {
            "text/html": [
              ""
            ],
            "text/plain": [
              "<IPython.core.display.HTML object>"
            ]
          },
          "metadata": {
            "tags": []
          }
        },
        {
          "output_type": "display_data",
          "data": {
            "text/html": [
              ""
            ],
            "text/plain": [
              "<IPython.core.display.HTML object>"
            ]
          },
          "metadata": {
            "tags": []
          }
        },
        {
          "output_type": "display_data",
          "data": {
            "text/html": [
              ""
            ],
            "text/plain": [
              "<IPython.core.display.HTML object>"
            ]
          },
          "metadata": {
            "tags": []
          }
        },
        {
          "output_type": "display_data",
          "data": {
            "text/html": [
              ""
            ],
            "text/plain": [
              "<IPython.core.display.HTML object>"
            ]
          },
          "metadata": {
            "tags": []
          }
        },
        {
          "output_type": "display_data",
          "data": {
            "text/html": [
              ""
            ],
            "text/plain": [
              "<IPython.core.display.HTML object>"
            ]
          },
          "metadata": {
            "tags": []
          }
        },
        {
          "output_type": "display_data",
          "data": {
            "text/html": [
              ""
            ],
            "text/plain": [
              "<IPython.core.display.HTML object>"
            ]
          },
          "metadata": {
            "tags": []
          }
        },
        {
          "output_type": "display_data",
          "data": {
            "text/html": [
              ""
            ],
            "text/plain": [
              "<IPython.core.display.HTML object>"
            ]
          },
          "metadata": {
            "tags": []
          }
        },
        {
          "output_type": "display_data",
          "data": {
            "text/html": [
              ""
            ],
            "text/plain": [
              "<IPython.core.display.HTML object>"
            ]
          },
          "metadata": {
            "tags": []
          }
        },
        {
          "output_type": "display_data",
          "data": {
            "text/html": [
              ""
            ],
            "text/plain": [
              "<IPython.core.display.HTML object>"
            ]
          },
          "metadata": {
            "tags": []
          }
        },
        {
          "output_type": "display_data",
          "data": {
            "text/html": [
              ""
            ],
            "text/plain": [
              "<IPython.core.display.HTML object>"
            ]
          },
          "metadata": {
            "tags": []
          }
        },
        {
          "output_type": "display_data",
          "data": {
            "text/html": [
              ""
            ],
            "text/plain": [
              "<IPython.core.display.HTML object>"
            ]
          },
          "metadata": {
            "tags": []
          }
        },
        {
          "output_type": "display_data",
          "data": {
            "text/html": [
              ""
            ],
            "text/plain": [
              "<IPython.core.display.HTML object>"
            ]
          },
          "metadata": {
            "tags": []
          }
        },
        {
          "output_type": "display_data",
          "data": {
            "text/html": [
              ""
            ],
            "text/plain": [
              "<IPython.core.display.HTML object>"
            ]
          },
          "metadata": {
            "tags": []
          }
        },
        {
          "output_type": "display_data",
          "data": {
            "text/html": [
              ""
            ],
            "text/plain": [
              "<IPython.core.display.HTML object>"
            ]
          },
          "metadata": {
            "tags": []
          }
        },
        {
          "output_type": "display_data",
          "data": {
            "text/html": [
              ""
            ],
            "text/plain": [
              "<IPython.core.display.HTML object>"
            ]
          },
          "metadata": {
            "tags": []
          }
        },
        {
          "output_type": "display_data",
          "data": {
            "text/html": [
              ""
            ],
            "text/plain": [
              "<IPython.core.display.HTML object>"
            ]
          },
          "metadata": {
            "tags": []
          }
        },
        {
          "output_type": "display_data",
          "data": {
            "text/html": [
              ""
            ],
            "text/plain": [
              "<IPython.core.display.HTML object>"
            ]
          },
          "metadata": {
            "tags": []
          }
        },
        {
          "output_type": "display_data",
          "data": {
            "text/html": [
              ""
            ],
            "text/plain": [
              "<IPython.core.display.HTML object>"
            ]
          },
          "metadata": {
            "tags": []
          }
        },
        {
          "output_type": "display_data",
          "data": {
            "text/html": [
              ""
            ],
            "text/plain": [
              "<IPython.core.display.HTML object>"
            ]
          },
          "metadata": {
            "tags": []
          }
        },
        {
          "output_type": "display_data",
          "data": {
            "text/html": [
              ""
            ],
            "text/plain": [
              "<IPython.core.display.HTML object>"
            ]
          },
          "metadata": {
            "tags": []
          }
        },
        {
          "output_type": "display_data",
          "data": {
            "text/html": [
              ""
            ],
            "text/plain": [
              "<IPython.core.display.HTML object>"
            ]
          },
          "metadata": {
            "tags": []
          }
        },
        {
          "output_type": "display_data",
          "data": {
            "text/html": [
              ""
            ],
            "text/plain": [
              "<IPython.core.display.HTML object>"
            ]
          },
          "metadata": {
            "tags": []
          }
        },
        {
          "output_type": "display_data",
          "data": {
            "text/html": [
              ""
            ],
            "text/plain": [
              "<IPython.core.display.HTML object>"
            ]
          },
          "metadata": {
            "tags": []
          }
        },
        {
          "output_type": "display_data",
          "data": {
            "text/html": [
              ""
            ],
            "text/plain": [
              "<IPython.core.display.HTML object>"
            ]
          },
          "metadata": {
            "tags": []
          }
        },
        {
          "output_type": "display_data",
          "data": {
            "text/html": [
              ""
            ],
            "text/plain": [
              "<IPython.core.display.HTML object>"
            ]
          },
          "metadata": {
            "tags": []
          }
        },
        {
          "output_type": "display_data",
          "data": {
            "text/html": [
              ""
            ],
            "text/plain": [
              "<IPython.core.display.HTML object>"
            ]
          },
          "metadata": {
            "tags": []
          }
        },
        {
          "output_type": "display_data",
          "data": {
            "text/html": [
              ""
            ],
            "text/plain": [
              "<IPython.core.display.HTML object>"
            ]
          },
          "metadata": {
            "tags": []
          }
        },
        {
          "output_type": "display_data",
          "data": {
            "text/html": [
              ""
            ],
            "text/plain": [
              "<IPython.core.display.HTML object>"
            ]
          },
          "metadata": {
            "tags": []
          }
        },
        {
          "output_type": "display_data",
          "data": {
            "text/html": [
              ""
            ],
            "text/plain": [
              "<IPython.core.display.HTML object>"
            ]
          },
          "metadata": {
            "tags": []
          }
        },
        {
          "output_type": "display_data",
          "data": {
            "text/html": [
              ""
            ],
            "text/plain": [
              "<IPython.core.display.HTML object>"
            ]
          },
          "metadata": {
            "tags": []
          }
        },
        {
          "output_type": "display_data",
          "data": {
            "text/html": [
              ""
            ],
            "text/plain": [
              "<IPython.core.display.HTML object>"
            ]
          },
          "metadata": {
            "tags": []
          }
        },
        {
          "output_type": "display_data",
          "data": {
            "text/html": [
              ""
            ],
            "text/plain": [
              "<IPython.core.display.HTML object>"
            ]
          },
          "metadata": {
            "tags": []
          }
        },
        {
          "output_type": "display_data",
          "data": {
            "text/html": [
              ""
            ],
            "text/plain": [
              "<IPython.core.display.HTML object>"
            ]
          },
          "metadata": {
            "tags": []
          }
        },
        {
          "output_type": "display_data",
          "data": {
            "text/html": [
              ""
            ],
            "text/plain": [
              "<IPython.core.display.HTML object>"
            ]
          },
          "metadata": {
            "tags": []
          }
        },
        {
          "output_type": "display_data",
          "data": {
            "text/html": [
              ""
            ],
            "text/plain": [
              "<IPython.core.display.HTML object>"
            ]
          },
          "metadata": {
            "tags": []
          }
        },
        {
          "output_type": "display_data",
          "data": {
            "text/html": [
              ""
            ],
            "text/plain": [
              "<IPython.core.display.HTML object>"
            ]
          },
          "metadata": {
            "tags": []
          }
        },
        {
          "output_type": "display_data",
          "data": {
            "text/html": [
              ""
            ],
            "text/plain": [
              "<IPython.core.display.HTML object>"
            ]
          },
          "metadata": {
            "tags": []
          }
        },
        {
          "output_type": "display_data",
          "data": {
            "text/html": [
              ""
            ],
            "text/plain": [
              "<IPython.core.display.HTML object>"
            ]
          },
          "metadata": {
            "tags": []
          }
        },
        {
          "output_type": "display_data",
          "data": {
            "text/html": [
              ""
            ],
            "text/plain": [
              "<IPython.core.display.HTML object>"
            ]
          },
          "metadata": {
            "tags": []
          }
        },
        {
          "output_type": "display_data",
          "data": {
            "text/html": [
              ""
            ],
            "text/plain": [
              "<IPython.core.display.HTML object>"
            ]
          },
          "metadata": {
            "tags": []
          }
        },
        {
          "output_type": "display_data",
          "data": {
            "text/html": [
              ""
            ],
            "text/plain": [
              "<IPython.core.display.HTML object>"
            ]
          },
          "metadata": {
            "tags": []
          }
        },
        {
          "output_type": "display_data",
          "data": {
            "text/html": [
              ""
            ],
            "text/plain": [
              "<IPython.core.display.HTML object>"
            ]
          },
          "metadata": {
            "tags": []
          }
        },
        {
          "output_type": "display_data",
          "data": {
            "text/html": [
              ""
            ],
            "text/plain": [
              "<IPython.core.display.HTML object>"
            ]
          },
          "metadata": {
            "tags": []
          }
        },
        {
          "output_type": "display_data",
          "data": {
            "text/html": [
              ""
            ],
            "text/plain": [
              "<IPython.core.display.HTML object>"
            ]
          },
          "metadata": {
            "tags": []
          }
        },
        {
          "output_type": "display_data",
          "data": {
            "text/html": [
              ""
            ],
            "text/plain": [
              "<IPython.core.display.HTML object>"
            ]
          },
          "metadata": {
            "tags": []
          }
        },
        {
          "output_type": "display_data",
          "data": {
            "text/html": [
              ""
            ],
            "text/plain": [
              "<IPython.core.display.HTML object>"
            ]
          },
          "metadata": {
            "tags": []
          }
        },
        {
          "output_type": "display_data",
          "data": {
            "text/html": [
              ""
            ],
            "text/plain": [
              "<IPython.core.display.HTML object>"
            ]
          },
          "metadata": {
            "tags": []
          }
        },
        {
          "output_type": "stream",
          "text": [
            " \n",
            "Missclassified shoes:\n",
            " \n"
          ],
          "name": "stdout"
        },
        {
          "output_type": "display_data",
          "data": {
            "text/html": [
              ""
            ],
            "text/plain": [
              "<IPython.core.display.HTML object>"
            ]
          },
          "metadata": {
            "tags": []
          }
        },
        {
          "output_type": "display_data",
          "data": {
            "text/html": [
              ""
            ],
            "text/plain": [
              "<IPython.core.display.HTML object>"
            ]
          },
          "metadata": {
            "tags": []
          }
        },
        {
          "output_type": "display_data",
          "data": {
            "text/html": [
              ""
            ],
            "text/plain": [
              "<IPython.core.display.HTML object>"
            ]
          },
          "metadata": {
            "tags": []
          }
        },
        {
          "output_type": "display_data",
          "data": {
            "text/html": [
              ""
            ],
            "text/plain": [
              "<IPython.core.display.HTML object>"
            ]
          },
          "metadata": {
            "tags": []
          }
        },
        {
          "output_type": "stream",
          "text": [
            "shoes classified as Apparel with prob. of 0.65\n"
          ],
          "name": "stdout"
        },
        {
          "output_type": "display_data",
          "data": {
            "image/png": "[encoded data removed]",
            "text/plain": [
              "<PIL.Image.Image image mode=RGB size=128x128 at 0x7FD8174B9780>"
            ]
          },
          "metadata": {
            "tags": []
          }
        },
        {
          "output_type": "display_data",
          "data": {
            "text/html": [
              ""
            ],
            "text/plain": [
              "<IPython.core.display.HTML object>"
            ]
          },
          "metadata": {
            "tags": []
          }
        },
        {
          "output_type": "display_data",
          "data": {
            "text/html": [
              ""
            ],
            "text/plain": [
              "<IPython.core.display.HTML object>"
            ]
          },
          "metadata": {
            "tags": []
          }
        },
        {
          "output_type": "display_data",
          "data": {
            "text/html": [
              ""
            ],
            "text/plain": [
              "<IPython.core.display.HTML object>"
            ]
          },
          "metadata": {
            "tags": []
          }
        },
        {
          "output_type": "stream",
          "text": [
            "shoes classified as Accessories with prob. of 0.42\n"
          ],
          "name": "stdout"
        },
        {
          "output_type": "display_data",
          "data": {
            "image/png": "[encoded data removed]",
            "text/plain": [
              "<PIL.Image.Image image mode=RGB size=128x128 at 0x7FD7D84BDB70>"
            ]
          },
          "metadata": {
            "tags": []
          }
        },
        {
          "output_type": "display_data",
          "data": {
            "text/html": [
              ""
            ],
            "text/plain": [
              "<IPython.core.display.HTML object>"
            ]
          },
          "metadata": {
            "tags": []
          }
        },
        {
          "output_type": "display_data",
          "data": {
            "text/html": [
              ""
            ],
            "text/plain": [
              "<IPython.core.display.HTML object>"
            ]
          },
          "metadata": {
            "tags": []
          }
        },
        {
          "output_type": "display_data",
          "data": {
            "text/html": [
              ""
            ],
            "text/plain": [
              "<IPython.core.display.HTML object>"
            ]
          },
          "metadata": {
            "tags": []
          }
        },
        {
          "output_type": "display_data",
          "data": {
            "text/html": [
              ""
            ],
            "text/plain": [
              "<IPython.core.display.HTML object>"
            ]
          },
          "metadata": {
            "tags": []
          }
        },
        {
          "output_type": "display_data",
          "data": {
            "text/html": [
              ""
            ],
            "text/plain": [
              "<IPython.core.display.HTML object>"
            ]
          },
          "metadata": {
            "tags": []
          }
        },
        {
          "output_type": "display_data",
          "data": {
            "text/html": [
              ""
            ],
            "text/plain": [
              "<IPython.core.display.HTML object>"
            ]
          },
          "metadata": {
            "tags": []
          }
        },
        {
          "output_type": "display_data",
          "data": {
            "text/html": [
              ""
            ],
            "text/plain": [
              "<IPython.core.display.HTML object>"
            ]
          },
          "metadata": {
            "tags": []
          }
        },
        {
          "output_type": "stream",
          "text": [
            "shoes classified as Accessories with prob. of 0.39\n"
          ],
          "name": "stdout"
        },
        {
          "output_type": "display_data",
          "data": {
            "image/png": "[encoded data removed]",
            "text/plain": [
              "<PIL.Image.Image image mode=RGB size=128x128 at 0x7FD6F2CF3B38>"
            ]
          },
          "metadata": {
            "tags": []
          }
        },
        {
          "output_type": "display_data",
          "data": {
            "text/html": [
              ""
            ],
            "text/plain": [
              "<IPython.core.display.HTML object>"
            ]
          },
          "metadata": {
            "tags": []
          }
        },
        {
          "output_type": "display_data",
          "data": {
            "text/html": [
              ""
            ],
            "text/plain": [
              "<IPython.core.display.HTML object>"
            ]
          },
          "metadata": {
            "tags": []
          }
        },
        {
          "output_type": "display_data",
          "data": {
            "text/html": [
              ""
            ],
            "text/plain": [
              "<IPython.core.display.HTML object>"
            ]
          },
          "metadata": {
            "tags": []
          }
        },
        {
          "output_type": "display_data",
          "data": {
            "text/html": [
              ""
            ],
            "text/plain": [
              "<IPython.core.display.HTML object>"
            ]
          },
          "metadata": {
            "tags": []
          }
        },
        {
          "output_type": "display_data",
          "data": {
            "text/html": [
              ""
            ],
            "text/plain": [
              "<IPython.core.display.HTML object>"
            ]
          },
          "metadata": {
            "tags": []
          }
        },
        {
          "output_type": "display_data",
          "data": {
            "text/html": [
              ""
            ],
            "text/plain": [
              "<IPython.core.display.HTML object>"
            ]
          },
          "metadata": {
            "tags": []
          }
        },
        {
          "output_type": "display_data",
          "data": {
            "text/html": [
              ""
            ],
            "text/plain": [
              "<IPython.core.display.HTML object>"
            ]
          },
          "metadata": {
            "tags": []
          }
        },
        {
          "output_type": "display_data",
          "data": {
            "text/html": [
              ""
            ],
            "text/plain": [
              "<IPython.core.display.HTML object>"
            ]
          },
          "metadata": {
            "tags": []
          }
        },
        {
          "output_type": "display_data",
          "data": {
            "text/html": [
              ""
            ],
            "text/plain": [
              "<IPython.core.display.HTML object>"
            ]
          },
          "metadata": {
            "tags": []
          }
        },
        {
          "output_type": "display_data",
          "data": {
            "text/html": [
              ""
            ],
            "text/plain": [
              "<IPython.core.display.HTML object>"
            ]
          },
          "metadata": {
            "tags": []
          }
        },
        {
          "output_type": "display_data",
          "data": {
            "text/html": [
              ""
            ],
            "text/plain": [
              "<IPython.core.display.HTML object>"
            ]
          },
          "metadata": {
            "tags": []
          }
        },
        {
          "output_type": "display_data",
          "data": {
            "text/html": [
              ""
            ],
            "text/plain": [
              "<IPython.core.display.HTML object>"
            ]
          },
          "metadata": {
            "tags": []
          }
        },
        {
          "output_type": "display_data",
          "data": {
            "text/html": [
              ""
            ],
            "text/plain": [
              "<IPython.core.display.HTML object>"
            ]
          },
          "metadata": {
            "tags": []
          }
        },
        {
          "output_type": "display_data",
          "data": {
            "text/html": [
              ""
            ],
            "text/plain": [
              "<IPython.core.display.HTML object>"
            ]
          },
          "metadata": {
            "tags": []
          }
        },
        {
          "output_type": "display_data",
          "data": {
            "text/html": [
              ""
            ],
            "text/plain": [
              "<IPython.core.display.HTML object>"
            ]
          },
          "metadata": {
            "tags": []
          }
        },
        {
          "output_type": "display_data",
          "data": {
            "text/html": [
              ""
            ],
            "text/plain": [
              "<IPython.core.display.HTML object>"
            ]
          },
          "metadata": {
            "tags": []
          }
        },
        {
          "output_type": "display_data",
          "data": {
            "text/html": [
              ""
            ],
            "text/plain": [
              "<IPython.core.display.HTML object>"
            ]
          },
          "metadata": {
            "tags": []
          }
        },
        {
          "output_type": "display_data",
          "data": {
            "text/html": [
              ""
            ],
            "text/plain": [
              "<IPython.core.display.HTML object>"
            ]
          },
          "metadata": {
            "tags": []
          }
        },
        {
          "output_type": "display_data",
          "data": {
            "text/html": [
              ""
            ],
            "text/plain": [
              "<IPython.core.display.HTML object>"
            ]
          },
          "metadata": {
            "tags": []
          }
        },
        {
          "output_type": "display_data",
          "data": {
            "text/html": [
              ""
            ],
            "text/plain": [
              "<IPython.core.display.HTML object>"
            ]
          },
          "metadata": {
            "tags": []
          }
        },
        {
          "output_type": "display_data",
          "data": {
            "text/html": [
              ""
            ],
            "text/plain": [
              "<IPython.core.display.HTML object>"
            ]
          },
          "metadata": {
            "tags": []
          }
        },
        {
          "output_type": "display_data",
          "data": {
            "text/html": [
              ""
            ],
            "text/plain": [
              "<IPython.core.display.HTML object>"
            ]
          },
          "metadata": {
            "tags": []
          }
        },
        {
          "output_type": "display_data",
          "data": {
            "text/html": [
              ""
            ],
            "text/plain": [
              "<IPython.core.display.HTML object>"
            ]
          },
          "metadata": {
            "tags": []
          }
        },
        {
          "output_type": "display_data",
          "data": {
            "text/html": [
              ""
            ],
            "text/plain": [
              "<IPython.core.display.HTML object>"
            ]
          },
          "metadata": {
            "tags": []
          }
        },
        {
          "output_type": "display_data",
          "data": {
            "text/html": [
              ""
            ],
            "text/plain": [
              "<IPython.core.display.HTML object>"
            ]
          },
          "metadata": {
            "tags": []
          }
        },
        {
          "output_type": "display_data",
          "data": {
            "text/html": [
              ""
            ],
            "text/plain": [
              "<IPython.core.display.HTML object>"
            ]
          },
          "metadata": {
            "tags": []
          }
        },
        {
          "output_type": "display_data",
          "data": {
            "text/html": [
              ""
            ],
            "text/plain": [
              "<IPython.core.display.HTML object>"
            ]
          },
          "metadata": {
            "tags": []
          }
        },
        {
          "output_type": "display_data",
          "data": {
            "text/html": [
              ""
            ],
            "text/plain": [
              "<IPython.core.display.HTML object>"
            ]
          },
          "metadata": {
            "tags": []
          }
        },
        {
          "output_type": "display_data",
          "data": {
            "text/html": [
              ""
            ],
            "text/plain": [
              "<IPython.core.display.HTML object>"
            ]
          },
          "metadata": {
            "tags": []
          }
        },
        {
          "output_type": "display_data",
          "data": {
            "text/html": [
              ""
            ],
            "text/plain": [
              "<IPython.core.display.HTML object>"
            ]
          },
          "metadata": {
            "tags": []
          }
        },
        {
          "output_type": "display_data",
          "data": {
            "text/html": [
              ""
            ],
            "text/plain": [
              "<IPython.core.display.HTML object>"
            ]
          },
          "metadata": {
            "tags": []
          }
        },
        {
          "output_type": "display_data",
          "data": {
            "text/html": [
              ""
            ],
            "text/plain": [
              "<IPython.core.display.HTML object>"
            ]
          },
          "metadata": {
            "tags": []
          }
        },
        {
          "output_type": "display_data",
          "data": {
            "text/html": [
              ""
            ],
            "text/plain": [
              "<IPython.core.display.HTML object>"
            ]
          },
          "metadata": {
            "tags": []
          }
        },
        {
          "output_type": "display_data",
          "data": {
            "text/html": [
              ""
            ],
            "text/plain": [
              "<IPython.core.display.HTML object>"
            ]
          },
          "metadata": {
            "tags": []
          }
        },
        {
          "output_type": "display_data",
          "data": {
            "text/html": [
              ""
            ],
            "text/plain": [
              "<IPython.core.display.HTML object>"
            ]
          },
          "metadata": {
            "tags": []
          }
        },
        {
          "output_type": "display_data",
          "data": {
            "text/html": [
              ""
            ],
            "text/plain": [
              "<IPython.core.display.HTML object>"
            ]
          },
          "metadata": {
            "tags": []
          }
        },
        {
          "output_type": "display_data",
          "data": {
            "text/html": [
              ""
            ],
            "text/plain": [
              "<IPython.core.display.HTML object>"
            ]
          },
          "metadata": {
            "tags": []
          }
        },
        {
          "output_type": "display_data",
          "data": {
            "text/html": [
              ""
            ],
            "text/plain": [
              "<IPython.core.display.HTML object>"
            ]
          },
          "metadata": {
            "tags": []
          }
        },
        {
          "output_type": "display_data",
          "data": {
            "text/html": [
              ""
            ],
            "text/plain": [
              "<IPython.core.display.HTML object>"
            ]
          },
          "metadata": {
            "tags": []
          }
        },
        {
          "output_type": "display_data",
          "data": {
            "text/html": [
              ""
            ],
            "text/plain": [
              "<IPython.core.display.HTML object>"
            ]
          },
          "metadata": {
            "tags": []
          }
        },
        {
          "output_type": "display_data",
          "data": {
            "text/html": [
              ""
            ],
            "text/plain": [
              "<IPython.core.display.HTML object>"
            ]
          },
          "metadata": {
            "tags": []
          }
        },
        {
          "output_type": "display_data",
          "data": {
            "text/html": [
              ""
            ],
            "text/plain": [
              "<IPython.core.display.HTML object>"
            ]
          },
          "metadata": {
            "tags": []
          }
        },
        {
          "output_type": "display_data",
          "data": {
            "text/html": [
              ""
            ],
            "text/plain": [
              "<IPython.core.display.HTML object>"
            ]
          },
          "metadata": {
            "tags": []
          }
        },
        {
          "output_type": "display_data",
          "data": {
            "text/html": [
              ""
            ],
            "text/plain": [
              "<IPython.core.display.HTML object>"
            ]
          },
          "metadata": {
            "tags": []
          }
        },
        {
          "output_type": "display_data",
          "data": {
            "text/html": [
              ""
            ],
            "text/plain": [
              "<IPython.core.display.HTML object>"
            ]
          },
          "metadata": {
            "tags": []
          }
        },
        {
          "output_type": "display_data",
          "data": {
            "text/html": [
              ""
            ],
            "text/plain": [
              "<IPython.core.display.HTML object>"
            ]
          },
          "metadata": {
            "tags": []
          }
        },
        {
          "output_type": "display_data",
          "data": {
            "text/html": [
              ""
            ],
            "text/plain": [
              "<IPython.core.display.HTML object>"
            ]
          },
          "metadata": {
            "tags": []
          }
        },
        {
          "output_type": "display_data",
          "data": {
            "text/html": [
              ""
            ],
            "text/plain": [
              "<IPython.core.display.HTML object>"
            ]
          },
          "metadata": {
            "tags": []
          }
        },
        {
          "output_type": "display_data",
          "data": {
            "text/html": [
              ""
            ],
            "text/plain": [
              "<IPython.core.display.HTML object>"
            ]
          },
          "metadata": {
            "tags": []
          }
        },
        {
          "output_type": "display_data",
          "data": {
            "text/html": [
              ""
            ],
            "text/plain": [
              "<IPython.core.display.HTML object>"
            ]
          },
          "metadata": {
            "tags": []
          }
        },
        {
          "output_type": "display_data",
          "data": {
            "text/html": [
              ""
            ],
            "text/plain": [
              "<IPython.core.display.HTML object>"
            ]
          },
          "metadata": {
            "tags": []
          }
        },
        {
          "output_type": "display_data",
          "data": {
            "text/html": [
              ""
            ],
            "text/plain": [
              "<IPython.core.display.HTML object>"
            ]
          },
          "metadata": {
            "tags": []
          }
        },
        {
          "output_type": "display_data",
          "data": {
            "text/html": [
              ""
            ],
            "text/plain": [
              "<IPython.core.display.HTML object>"
            ]
          },
          "metadata": {
            "tags": []
          }
        },
        {
          "output_type": "display_data",
          "data": {
            "text/html": [
              ""
            ],
            "text/plain": [
              "<IPython.core.display.HTML object>"
            ]
          },
          "metadata": {
            "tags": []
          }
        },
        {
          "output_type": "display_data",
          "data": {
            "text/html": [
              ""
            ],
            "text/plain": [
              "<IPython.core.display.HTML object>"
            ]
          },
          "metadata": {
            "tags": []
          }
        },
        {
          "output_type": "display_data",
          "data": {
            "text/html": [
              ""
            ],
            "text/plain": [
              "<IPython.core.display.HTML object>"
            ]
          },
          "metadata": {
            "tags": []
          }
        },
        {
          "output_type": "display_data",
          "data": {
            "text/html": [
              ""
            ],
            "text/plain": [
              "<IPython.core.display.HTML object>"
            ]
          },
          "metadata": {
            "tags": []
          }
        },
        {
          "output_type": "display_data",
          "data": {
            "text/html": [
              ""
            ],
            "text/plain": [
              "<IPython.core.display.HTML object>"
            ]
          },
          "metadata": {
            "tags": []
          }
        },
        {
          "output_type": "display_data",
          "data": {
            "text/html": [
              ""
            ],
            "text/plain": [
              "<IPython.core.display.HTML object>"
            ]
          },
          "metadata": {
            "tags": []
          }
        },
        {
          "output_type": "display_data",
          "data": {
            "text/html": [
              ""
            ],
            "text/plain": [
              "<IPython.core.display.HTML object>"
            ]
          },
          "metadata": {
            "tags": []
          }
        },
        {
          "output_type": "display_data",
          "data": {
            "text/html": [
              ""
            ],
            "text/plain": [
              "<IPython.core.display.HTML object>"
            ]
          },
          "metadata": {
            "tags": []
          }
        },
        {
          "output_type": "display_data",
          "data": {
            "text/html": [
              ""
            ],
            "text/plain": [
              "<IPython.core.display.HTML object>"
            ]
          },
          "metadata": {
            "tags": []
          }
        },
        {
          "output_type": "display_data",
          "data": {
            "text/html": [
              ""
            ],
            "text/plain": [
              "<IPython.core.display.HTML object>"
            ]
          },
          "metadata": {
            "tags": []
          }
        },
        {
          "output_type": "display_data",
          "data": {
            "text/html": [
              ""
            ],
            "text/plain": [
              "<IPython.core.display.HTML object>"
            ]
          },
          "metadata": {
            "tags": []
          }
        },
        {
          "output_type": "display_data",
          "data": {
            "text/html": [
              ""
            ],
            "text/plain": [
              "<IPython.core.display.HTML object>"
            ]
          },
          "metadata": {
            "tags": []
          }
        },
        {
          "output_type": "display_data",
          "data": {
            "text/html": [
              ""
            ],
            "text/plain": [
              "<IPython.core.display.HTML object>"
            ]
          },
          "metadata": {
            "tags": []
          }
        },
        {
          "output_type": "display_data",
          "data": {
            "text/html": [
              ""
            ],
            "text/plain": [
              "<IPython.core.display.HTML object>"
            ]
          },
          "metadata": {
            "tags": []
          }
        },
        {
          "output_type": "display_data",
          "data": {
            "text/html": [
              ""
            ],
            "text/plain": [
              "<IPython.core.display.HTML object>"
            ]
          },
          "metadata": {
            "tags": []
          }
        },
        {
          "output_type": "display_data",
          "data": {
            "text/html": [
              ""
            ],
            "text/plain": [
              "<IPython.core.display.HTML object>"
            ]
          },
          "metadata": {
            "tags": []
          }
        },
        {
          "output_type": "display_data",
          "data": {
            "text/html": [
              ""
            ],
            "text/plain": [
              "<IPython.core.display.HTML object>"
            ]
          },
          "metadata": {
            "tags": []
          }
        },
        {
          "output_type": "display_data",
          "data": {
            "text/html": [
              ""
            ],
            "text/plain": [
              "<IPython.core.display.HTML object>"
            ]
          },
          "metadata": {
            "tags": []
          }
        },
        {
          "output_type": "display_data",
          "data": {
            "text/html": [
              ""
            ],
            "text/plain": [
              "<IPython.core.display.HTML object>"
            ]
          },
          "metadata": {
            "tags": []
          }
        },
        {
          "output_type": "display_data",
          "data": {
            "text/html": [
              ""
            ],
            "text/plain": [
              "<IPython.core.display.HTML object>"
            ]
          },
          "metadata": {
            "tags": []
          }
        },
        {
          "output_type": "display_data",
          "data": {
            "text/html": [
              ""
            ],
            "text/plain": [
              "<IPython.core.display.HTML object>"
            ]
          },
          "metadata": {
            "tags": []
          }
        },
        {
          "output_type": "display_data",
          "data": {
            "text/html": [
              ""
            ],
            "text/plain": [
              "<IPython.core.display.HTML object>"
            ]
          },
          "metadata": {
            "tags": []
          }
        },
        {
          "output_type": "display_data",
          "data": {
            "text/html": [
              ""
            ],
            "text/plain": [
              "<IPython.core.display.HTML object>"
            ]
          },
          "metadata": {
            "tags": []
          }
        },
        {
          "output_type": "display_data",
          "data": {
            "text/html": [
              ""
            ],
            "text/plain": [
              "<IPython.core.display.HTML object>"
            ]
          },
          "metadata": {
            "tags": []
          }
        },
        {
          "output_type": "display_data",
          "data": {
            "text/html": [
              ""
            ],
            "text/plain": [
              "<IPython.core.display.HTML object>"
            ]
          },
          "metadata": {
            "tags": []
          }
        },
        {
          "output_type": "display_data",
          "data": {
            "text/html": [
              ""
            ],
            "text/plain": [
              "<IPython.core.display.HTML object>"
            ]
          },
          "metadata": {
            "tags": []
          }
        },
        {
          "output_type": "display_data",
          "data": {
            "text/html": [
              ""
            ],
            "text/plain": [
              "<IPython.core.display.HTML object>"
            ]
          },
          "metadata": {
            "tags": []
          }
        },
        {
          "output_type": "display_data",
          "data": {
            "text/html": [
              ""
            ],
            "text/plain": [
              "<IPython.core.display.HTML object>"
            ]
          },
          "metadata": {
            "tags": []
          }
        },
        {
          "output_type": "display_data",
          "data": {
            "text/html": [
              ""
            ],
            "text/plain": [
              "<IPython.core.display.HTML object>"
            ]
          },
          "metadata": {
            "tags": []
          }
        },
        {
          "output_type": "display_data",
          "data": {
            "text/html": [
              ""
            ],
            "text/plain": [
              "<IPython.core.display.HTML object>"
            ]
          },
          "metadata": {
            "tags": []
          }
        },
        {
          "output_type": "display_data",
          "data": {
            "text/html": [
              ""
            ],
            "text/plain": [
              "<IPython.core.display.HTML object>"
            ]
          },
          "metadata": {
            "tags": []
          }
        },
        {
          "output_type": "display_data",
          "data": {
            "text/html": [
              ""
            ],
            "text/plain": [
              "<IPython.core.display.HTML object>"
            ]
          },
          "metadata": {
            "tags": []
          }
        },
        {
          "output_type": "display_data",
          "data": {
            "text/html": [
              ""
            ],
            "text/plain": [
              "<IPython.core.display.HTML object>"
            ]
          },
          "metadata": {
            "tags": []
          }
        },
        {
          "output_type": "display_data",
          "data": {
            "text/html": [
              ""
            ],
            "text/plain": [
              "<IPython.core.display.HTML object>"
            ]
          },
          "metadata": {
            "tags": []
          }
        },
        {
          "output_type": "display_data",
          "data": {
            "text/html": [
              ""
            ],
            "text/plain": [
              "<IPython.core.display.HTML object>"
            ]
          },
          "metadata": {
            "tags": []
          }
        },
        {
          "output_type": "display_data",
          "data": {
            "text/html": [
              ""
            ],
            "text/plain": [
              "<IPython.core.display.HTML object>"
            ]
          },
          "metadata": {
            "tags": []
          }
        },
        {
          "output_type": "display_data",
          "data": {
            "text/html": [
              ""
            ],
            "text/plain": [
              "<IPython.core.display.HTML object>"
            ]
          },
          "metadata": {
            "tags": []
          }
        },
        {
          "output_type": "display_data",
          "data": {
            "text/html": [
              ""
            ],
            "text/plain": [
              "<IPython.core.display.HTML object>"
            ]
          },
          "metadata": {
            "tags": []
          }
        },
        {
          "output_type": "display_data",
          "data": {
            "text/html": [
              ""
            ],
            "text/plain": [
              "<IPython.core.display.HTML object>"
            ]
          },
          "metadata": {
            "tags": []
          }
        },
        {
          "output_type": "display_data",
          "data": {
            "text/html": [
              ""
            ],
            "text/plain": [
              "<IPython.core.display.HTML object>"
            ]
          },
          "metadata": {
            "tags": []
          }
        },
        {
          "output_type": "display_data",
          "data": {
            "text/html": [
              ""
            ],
            "text/plain": [
              "<IPython.core.display.HTML object>"
            ]
          },
          "metadata": {
            "tags": []
          }
        },
        {
          "output_type": "display_data",
          "data": {
            "text/html": [
              ""
            ],
            "text/plain": [
              "<IPython.core.display.HTML object>"
            ]
          },
          "metadata": {
            "tags": []
          }
        },
        {
          "output_type": "display_data",
          "data": {
            "text/html": [
              ""
            ],
            "text/plain": [
              "<IPython.core.display.HTML object>"
            ]
          },
          "metadata": {
            "tags": []
          }
        },
        {
          "output_type": "display_data",
          "data": {
            "text/html": [
              ""
            ],
            "text/plain": [
              "<IPython.core.display.HTML object>"
            ]
          },
          "metadata": {
            "tags": []
          }
        },
        {
          "output_type": "display_data",
          "data": {
            "text/html": [
              ""
            ],
            "text/plain": [
              "<IPython.core.display.HTML object>"
            ]
          },
          "metadata": {
            "tags": []
          }
        },
        {
          "output_type": "display_data",
          "data": {
            "text/html": [
              ""
            ],
            "text/plain": [
              "<IPython.core.display.HTML object>"
            ]
          },
          "metadata": {
            "tags": []
          }
        },
        {
          "output_type": "display_data",
          "data": {
            "text/html": [
              ""
            ],
            "text/plain": [
              "<IPython.core.display.HTML object>"
            ]
          },
          "metadata": {
            "tags": []
          }
        },
        {
          "output_type": "display_data",
          "data": {
            "text/html": [
              ""
            ],
            "text/plain": [
              "<IPython.core.display.HTML object>"
            ]
          },
          "metadata": {
            "tags": []
          }
        },
        {
          "output_type": "display_data",
          "data": {
            "text/html": [
              ""
            ],
            "text/plain": [
              "<IPython.core.display.HTML object>"
            ]
          },
          "metadata": {
            "tags": []
          }
        },
        {
          "output_type": "display_data",
          "data": {
            "text/html": [
              ""
            ],
            "text/plain": [
              "<IPython.core.display.HTML object>"
            ]
          },
          "metadata": {
            "tags": []
          }
        },
        {
          "output_type": "display_data",
          "data": {
            "text/html": [
              ""
            ],
            "text/plain": [
              "<IPython.core.display.HTML object>"
            ]
          },
          "metadata": {
            "tags": []
          }
        },
        {
          "output_type": "display_data",
          "data": {
            "text/html": [
              ""
            ],
            "text/plain": [
              "<IPython.core.display.HTML object>"
            ]
          },
          "metadata": {
            "tags": []
          }
        },
        {
          "output_type": "display_data",
          "data": {
            "text/html": [
              ""
            ],
            "text/plain": [
              "<IPython.core.display.HTML object>"
            ]
          },
          "metadata": {
            "tags": []
          }
        },
        {
          "output_type": "display_data",
          "data": {
            "text/html": [
              ""
            ],
            "text/plain": [
              "<IPython.core.display.HTML object>"
            ]
          },
          "metadata": {
            "tags": []
          }
        },
        {
          "output_type": "display_data",
          "data": {
            "text/html": [
              ""
            ],
            "text/plain": [
              "<IPython.core.display.HTML object>"
            ]
          },
          "metadata": {
            "tags": []
          }
        },
        {
          "output_type": "display_data",
          "data": {
            "text/html": [
              ""
            ],
            "text/plain": [
              "<IPython.core.display.HTML object>"
            ]
          },
          "metadata": {
            "tags": []
          }
        },
        {
          "output_type": "display_data",
          "data": {
            "text/html": [
              ""
            ],
            "text/plain": [
              "<IPython.core.display.HTML object>"
            ]
          },
          "metadata": {
            "tags": []
          }
        },
        {
          "output_type": "display_data",
          "data": {
            "text/html": [
              ""
            ],
            "text/plain": [
              "<IPython.core.display.HTML object>"
            ]
          },
          "metadata": {
            "tags": []
          }
        },
        {
          "output_type": "display_data",
          "data": {
            "text/html": [
              ""
            ],
            "text/plain": [
              "<IPython.core.display.HTML object>"
            ]
          },
          "metadata": {
            "tags": []
          }
        },
        {
          "output_type": "display_data",
          "data": {
            "text/html": [
              ""
            ],
            "text/plain": [
              "<IPython.core.display.HTML object>"
            ]
          },
          "metadata": {
            "tags": []
          }
        },
        {
          "output_type": "display_data",
          "data": {
            "text/html": [
              ""
            ],
            "text/plain": [
              "<IPython.core.display.HTML object>"
            ]
          },
          "metadata": {
            "tags": []
          }
        },
        {
          "output_type": "display_data",
          "data": {
            "text/html": [
              ""
            ],
            "text/plain": [
              "<IPython.core.display.HTML object>"
            ]
          },
          "metadata": {
            "tags": []
          }
        },
        {
          "output_type": "display_data",
          "data": {
            "text/html": [
              ""
            ],
            "text/plain": [
              "<IPython.core.display.HTML object>"
            ]
          },
          "metadata": {
            "tags": []
          }
        },
        {
          "output_type": "display_data",
          "data": {
            "text/html": [
              ""
            ],
            "text/plain": [
              "<IPython.core.display.HTML object>"
            ]
          },
          "metadata": {
            "tags": []
          }
        },
        {
          "output_type": "display_data",
          "data": {
            "text/html": [
              ""
            ],
            "text/plain": [
              "<IPython.core.display.HTML object>"
            ]
          },
          "metadata": {
            "tags": []
          }
        },
        {
          "output_type": "display_data",
          "data": {
            "text/html": [
              ""
            ],
            "text/plain": [
              "<IPython.core.display.HTML object>"
            ]
          },
          "metadata": {
            "tags": []
          }
        },
        {
          "output_type": "display_data",
          "data": {
            "text/html": [
              ""
            ],
            "text/plain": [
              "<IPython.core.display.HTML object>"
            ]
          },
          "metadata": {
            "tags": []
          }
        },
        {
          "output_type": "display_data",
          "data": {
            "text/html": [
              ""
            ],
            "text/plain": [
              "<IPython.core.display.HTML object>"
            ]
          },
          "metadata": {
            "tags": []
          }
        },
        {
          "output_type": "display_data",
          "data": {
            "text/html": [
              ""
            ],
            "text/plain": [
              "<IPython.core.display.HTML object>"
            ]
          },
          "metadata": {
            "tags": []
          }
        },
        {
          "output_type": "display_data",
          "data": {
            "text/html": [
              ""
            ],
            "text/plain": [
              "<IPython.core.display.HTML object>"
            ]
          },
          "metadata": {
            "tags": []
          }
        },
        {
          "output_type": "display_data",
          "data": {
            "text/html": [
              ""
            ],
            "text/plain": [
              "<IPython.core.display.HTML object>"
            ]
          },
          "metadata": {
            "tags": []
          }
        },
        {
          "output_type": "display_data",
          "data": {
            "text/html": [
              ""
            ],
            "text/plain": [
              "<IPython.core.display.HTML object>"
            ]
          },
          "metadata": {
            "tags": []
          }
        }
      ]
    },
    {
      "cell_type": "code",
      "metadata": {
        "colab": {
          "base_uri": "https://localhost:8080/"
        },
        "id": "_HPjuGQWtT0D",
        "outputId": "71e8d9ee-bd23-4226-9163-28981c5b1805"
      },
      "source": [
        "test_accuracy"
      ],
      "execution_count": 102,
      "outputs": [
        {
          "output_type": "execute_result",
          "data": {
            "text/plain": [
              "{'dress': 0.9863945578231292,\n",
              " 'earings': 0.7916666666666666,\n",
              " 'shoes': 0.7913669064748201}"
            ]
          },
          "metadata": {
            "tags": []
          },
          "execution_count": 102
        }
      ]
    },
    {
      "cell_type": "code",
      "metadata": {
        "id": "W-KThseeKv9h"
      },
      "source": [
        ""
      ],
      "execution_count": 102,
      "outputs": []
    }
  ]
}