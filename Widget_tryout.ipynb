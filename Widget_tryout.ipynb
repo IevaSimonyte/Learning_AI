{
 "cells": [
  {
   "cell_type": "code",
   "execution_count": 2,
   "metadata": {},
   "outputs": [],
   "source": [
    "from fastbook import *\n",
    "from fastai.vision.widgets import *"
   ]
  },
  {
   "cell_type": "code",
   "execution_count": 5,
   "metadata": {},
   "outputs": [],
   "source": [
    "btn_run = widgets.Button(description='Hello world')\n",
    "btn_upload = widgets.FileUpload()\n",
    "\n",
    "def on_click_classify(change):\n",
    "    img = PILImage.create(btn_upload.data[-1])\n",
    "    with out_pl: display(img.to_thumb(224,224))\n",
    "    lbl_pred.value = f'Prediction: {True}'\n",
    "    \n",
    "btn_run.on_click(on_click_classify)    "
   ]
  },
  {
   "cell_type": "code",
   "execution_count": 6,
   "metadata": {},
   "outputs": [
    {
     "ename": "NameError",
     "evalue": "name 'out_pl' is not defined",
     "output_type": "error",
     "traceback": [
      "\u001b[1;31m---------------------------------------------------------------------------\u001b[0m",
      "\u001b[1;31mNameError\u001b[0m                                 Traceback (most recent call last)",
      "\u001b[1;32m<ipython-input-6-8a5a9be8ae2e>\u001b[0m in \u001b[0;36m<module>\u001b[1;34m\u001b[0m\n\u001b[1;32m----> 1\u001b[1;33m \u001b[0mVBox\u001b[0m\u001b[1;33m(\u001b[0m\u001b[1;33m[\u001b[0m\u001b[0mwidgets\u001b[0m\u001b[1;33m.\u001b[0m\u001b[0mLabel\u001b[0m\u001b[1;33m(\u001b[0m\u001b[1;34m'Select your item!'\u001b[0m\u001b[1;33m)\u001b[0m\u001b[1;33m,\u001b[0m \u001b[0mbtn_upload\u001b[0m\u001b[1;33m,\u001b[0m \u001b[0mbtn_run\u001b[0m\u001b[1;33m,\u001b[0m \u001b[0mout_pl\u001b[0m\u001b[1;33m,\u001b[0m \u001b[0mlbl_pred\u001b[0m\u001b[1;33m]\u001b[0m\u001b[1;33m)\u001b[0m\u001b[1;33m\u001b[0m\u001b[1;33m\u001b[0m\u001b[0m\n\u001b[0m",
      "\u001b[1;31mNameError\u001b[0m: name 'out_pl' is not defined"
     ]
    }
   ],
   "source": [
    "VBox([widgets.Label('Select your item!'), btn_upload, btn_run, out_pl, lbl_pred])"
   ]
  },
  {
   "cell_type": "code",
   "execution_count": 58,
   "metadata": {},
   "outputs": [
    {
     "name": "stdout",
     "output_type": "stream",
     "text": [
      "Collecting voila"
     ]
    },
    {
     "name": "stderr",
     "output_type": "stream",
     "text": [
      "ERROR: pip's dependency resolver does not currently take into account all the packages that are installed. This behaviour is the source of the following dependency conflicts.\n",
      "nbdev 1.1.11 requires nbconvert<6, but you have nbconvert 6.0.7 which is incompatible.\n"
     ]
    },
    {
     "name": "stdout",
     "output_type": "stream",
     "text": [
      "\n",
      "  Downloading voila-0.2.6-py3-none-any.whl (1.9 MB)\n",
      "Requirement already satisfied: nbclient<0.6,>=0.4.0 in c:\\users\\ievas.bsensor\\anaconda3\\lib\\site-packages (from voila) (0.5.1)\n",
      "Requirement already satisfied: jupyter-client<7,>=6.1.3 in c:\\users\\ievas.bsensor\\anaconda3\\lib\\site-packages (from voila) (6.1.7)\n",
      "Requirement already satisfied: traitlets in c:\\users\\ievas.bsensor\\anaconda3\\lib\\site-packages (from jupyter-client<7,>=6.1.3->voila) (5.0.5)\n",
      "Requirement already satisfied: jupyter-core>=4.6.0 in c:\\users\\ievas.bsensor\\anaconda3\\lib\\site-packages (from jupyter-client<7,>=6.1.3->voila) (4.7.0)\n",
      "Requirement already satisfied: python-dateutil>=2.1 in c:\\users\\ievas.bsensor\\anaconda3\\lib\\site-packages (from jupyter-client<7,>=6.1.3->voila) (2.8.1)\n",
      "Requirement already satisfied: tornado>=4.1 in c:\\users\\ievas.bsensor\\anaconda3\\lib\\site-packages (from jupyter-client<7,>=6.1.3->voila) (6.1)\n",
      "Requirement already satisfied: pyzmq>=13 in c:\\users\\ievas.bsensor\\anaconda3\\lib\\site-packages (from jupyter-client<7,>=6.1.3->voila) (20.0.0)\n",
      "Requirement already satisfied: pywin32>=1.0 in c:\\users\\ievas.bsensor\\anaconda3\\lib\\site-packages (from jupyter-core>=4.6.0->jupyter-client<7,>=6.1.3->voila) (227)\n",
      "Collecting jupyter-server<2.0.0,>=0.3.0\n",
      "  Downloading jupyter_server-1.2.2-py3-none-any.whl (184 kB)\n",
      "Requirement already satisfied: terminado>=0.8.3 in c:\\users\\ievas.bsensor\\anaconda3\\lib\\site-packages (from jupyter-server<2.0.0,>=0.3.0->voila) (0.9.1)\n",
      "Requirement already satisfied: jinja2 in c:\\users\\ievas.bsensor\\anaconda3\\lib\\site-packages (from jupyter-server<2.0.0,>=0.3.0->voila) (2.11.2)\n",
      "Requirement already satisfied: ipython-genutils in c:\\users\\ievas.bsensor\\anaconda3\\lib\\site-packages (from jupyter-server<2.0.0,>=0.3.0->voila) (0.2.0)\n",
      "Requirement already satisfied: Send2Trash in c:\\users\\ievas.bsensor\\anaconda3\\lib\\site-packages (from jupyter-server<2.0.0,>=0.3.0->voila) (1.5.0)\n",
      "Requirement already satisfied: nbformat in c:\\users\\ievas.bsensor\\anaconda3\\lib\\site-packages (from jupyter-server<2.0.0,>=0.3.0->voila) (5.0.8)\n",
      "Requirement already satisfied: prometheus-client in c:\\users\\ievas.bsensor\\anaconda3\\lib\\site-packages (from jupyter-server<2.0.0,>=0.3.0->voila) (0.9.0)\n",
      "Collecting anyio>=2.0.2\n",
      "  Downloading anyio-2.0.2-py3-none-any.whl (62 kB)\n",
      "Requirement already satisfied: idna>=2.8 in c:\\users\\ievas.bsensor\\anaconda3\\lib\\site-packages (from anyio>=2.0.2->jupyter-server<2.0.0,>=0.3.0->voila) (2.10)\n",
      "Requirement already satisfied: async-generator in c:\\users\\ievas.bsensor\\anaconda3\\lib\\site-packages (from nbclient<0.6,>=0.4.0->voila) (1.10)\n",
      "Requirement already satisfied: nest-asyncio in c:\\users\\ievas.bsensor\\anaconda3\\lib\\site-packages (from nbclient<0.6,>=0.4.0->voila) (1.4.3)\n",
      "Collecting nbconvert<7,>=6.0.0\n",
      "  Downloading nbconvert-6.0.7-py3-none-any.whl (552 kB)\n",
      "Requirement already satisfied: pygments>=2.4.1 in c:\\users\\ievas.bsensor\\anaconda3\\lib\\site-packages (from nbconvert<7,>=6.0.0->voila) (2.7.3)\n",
      "Requirement already satisfied: jupyterlab-pygments in c:\\users\\ievas.bsensor\\anaconda3\\lib\\site-packages (from nbconvert<7,>=6.0.0->voila) (0.1.2)\n",
      "Requirement already satisfied: entrypoints>=0.2.2 in c:\\users\\ievas.bsensor\\anaconda3\\lib\\site-packages (from nbconvert<7,>=6.0.0->voila) (0.3)\n",
      "Requirement already satisfied: bleach in c:\\users\\ievas.bsensor\\anaconda3\\lib\\site-packages (from nbconvert<7,>=6.0.0->voila) (3.2.1)\n",
      "Requirement already satisfied: pandocfilters>=1.4.1 in c:\\users\\ievas.bsensor\\anaconda3\\lib\\site-packages (from nbconvert<7,>=6.0.0->voila) (1.4.3)\n",
      "Requirement already satisfied: testpath in c:\\users\\ievas.bsensor\\anaconda3\\lib\\site-packages (from nbconvert<7,>=6.0.0->voila) (0.4.4)\n",
      "Requirement already satisfied: defusedxml in c:\\users\\ievas.bsensor\\anaconda3\\lib\\site-packages (from nbconvert<7,>=6.0.0->voila) (0.6.0)\n",
      "Requirement already satisfied: mistune<2,>=0.8.1 in c:\\users\\ievas.bsensor\\anaconda3\\lib\\site-packages (from nbconvert<7,>=6.0.0->voila) (0.8.4)\n",
      "Requirement already satisfied: MarkupSafe>=0.23 in c:\\users\\ievas.bsensor\\anaconda3\\lib\\site-packages (from jinja2->jupyter-server<2.0.0,>=0.3.0->voila) (1.1.1)\n",
      "Requirement already satisfied: jsonschema!=2.5.0,>=2.4 in c:\\users\\ievas.bsensor\\anaconda3\\lib\\site-packages (from nbformat->jupyter-server<2.0.0,>=0.3.0->voila) (3.2.0)\n",
      "Requirement already satisfied: six>=1.11.0 in c:\\users\\ievas.bsensor\\anaconda3\\lib\\site-packages (from jsonschema!=2.5.0,>=2.4->nbformat->jupyter-server<2.0.0,>=0.3.0->voila) (1.15.0)\n",
      "Requirement already satisfied: pyrsistent>=0.14.0 in c:\\users\\ievas.bsensor\\anaconda3\\lib\\site-packages (from jsonschema!=2.5.0,>=2.4->nbformat->jupyter-server<2.0.0,>=0.3.0->voila) (0.17.3)\n",
      "Requirement already satisfied: setuptools in c:\\users\\ievas.bsensor\\anaconda3\\lib\\site-packages (from jsonschema!=2.5.0,>=2.4->nbformat->jupyter-server<2.0.0,>=0.3.0->voila) (51.0.0.post20201207)\n",
      "Requirement already satisfied: attrs>=17.4.0 in c:\\users\\ievas.bsensor\\anaconda3\\lib\\site-packages (from jsonschema!=2.5.0,>=2.4->nbformat->jupyter-server<2.0.0,>=0.3.0->voila) (20.3.0)\n",
      "Collecting sniffio>=1.1\n",
      "  Downloading sniffio-1.2.0-py3-none-any.whl (10 kB)\n",
      "Requirement already satisfied: pywinpty>=0.5 in c:\\users\\ievas.bsensor\\anaconda3\\lib\\site-packages (from terminado>=0.8.3->jupyter-server<2.0.0,>=0.3.0->voila) (0.5.7)\n",
      "Requirement already satisfied: webencodings in c:\\users\\ievas.bsensor\\anaconda3\\lib\\site-packages (from bleach->nbconvert<7,>=6.0.0->voila) (0.5.1)\n",
      "Requirement already satisfied: packaging in c:\\users\\ievas.bsensor\\anaconda3\\lib\\site-packages (from bleach->nbconvert<7,>=6.0.0->voila) (20.8)\n",
      "Requirement already satisfied: pyparsing>=2.0.2 in c:\\users\\ievas.bsensor\\anaconda3\\lib\\site-packages (from packaging->bleach->nbconvert<7,>=6.0.0->voila) (2.4.7)\n",
      "Installing collected packages: sniffio, nbconvert, anyio, jupyter-server, voila\n",
      "  Attempting uninstall: nbconvert\n",
      "    Found existing installation: nbconvert 5.6.1\n",
      "    Uninstalling nbconvert-5.6.1:\n",
      "      Successfully uninstalled nbconvert-5.6.1\n",
      "Successfully installed anyio-2.0.2 jupyter-server-1.2.2 nbconvert-6.0.7 sniffio-1.2.0 voila-0.2.6\n"
     ]
    },
    {
     "name": "stderr",
     "output_type": "stream",
     "text": [
      "Enabling: voila\n",
      "- Writing config: C:\\Users\\ievas.BSENSOR\\Anaconda3\\etc\\jupyter\n",
      "    - Validating...\n",
      "      voila 0.2.6 ok\n"
     ]
    }
   ],
   "source": [
    "!pip install voila\n",
    "!jupyter serverextension enable --sys-prefix voila "
   ]
  },
  {
   "cell_type": "code",
   "execution_count": null,
   "metadata": {},
   "outputs": [],
   "source": []
  }
 ],
 "metadata": {
  "kernelspec": {
   "display_name": "fastai",
   "language": "python",
   "name": "fastai"
  },
  "language_info": {
   "codemirror_mode": {
    "name": "ipython",
    "version": 3
   },
   "file_extension": ".py",
   "mimetype": "text/x-python",
   "name": "python",
   "nbconvert_exporter": "python",
   "pygments_lexer": "ipython3",
   "version": "3.8.5"
  }
 },
 "nbformat": 4,
 "nbformat_minor": 4
}
